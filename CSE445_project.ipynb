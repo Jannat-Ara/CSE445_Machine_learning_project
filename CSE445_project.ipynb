{
  "nbformat": 4,
  "nbformat_minor": 0,
  "metadata": {
    "colab": {
      "name": "CSE445_project",
      "provenance": []
    },
    "kernelspec": {
      "name": "python3",
      "display_name": "Python 3"
    },
    "language_info": {
      "name": "python"
    }
  },
  "cells": [
    {
      "cell_type": "code",
      "metadata": {
        "id": "ime-C5OVE32O",
        "colab": {
          "base_uri": "https://localhost:8080/"
        },
        "outputId": "82803f04-c535-45a4-d939-ef6bfa38d2f2"
      },
      "source": [
        "from google.colab import drive\n",
        "drive.mount('/content/drive/')"
      ],
      "execution_count": 1,
      "outputs": [
        {
          "output_type": "stream",
          "name": "stdout",
          "text": [
            "Mounted at /content/drive/\n"
          ]
        }
      ]
    },
    {
      "cell_type": "markdown",
      "metadata": {
        "id": "MlT4l6IbE5gl"
      },
      "source": [
        "Import Libraraies "
      ]
    },
    {
      "cell_type": "code",
      "metadata": {
        "id": "bg5qMu5rE_tX"
      },
      "source": [
        "import numpy as np \n",
        "import pandas as pd \n",
        "import plotly.express as px\n",
        "from sklearn.model_selection import train_test_split,cross_val_score, cross_val_predict\n",
        "from sklearn.feature_extraction.text import CountVectorizer,TfidfVectorizer,TfidfTransformer\n",
        "from sklearn.ensemble import RandomForestClassifier\n",
        "from sklearn.linear_model import LogisticRegression\n",
        "from sklearn import svm"
      ],
      "execution_count": 2,
      "outputs": []
    },
    {
      "cell_type": "code",
      "metadata": {
        "colab": {
          "base_uri": "https://localhost:8080/"
        },
        "id": "2WT36jJBFFQq",
        "outputId": "4e4cd328-ccae-48b9-c6ea-c85e51b6afd5"
      },
      "source": [
        "#train data\n",
        "train_data = pd.read_csv('/content/drive/MyDrive/data/drugsComTest_raw.csv/drugsComTest_raw.csv')\n",
        "#test data\n",
        "test_data = pd.read_csv('/content/drive/MyDrive/data/drugsComTrain_raw.csv/drugsComTrain_raw.csv')\n",
        "\n",
        "#shape of the datas before droping null values\n",
        "print('The shape of train data:',train_data.shape)\n",
        "print('The shape of test data:',test_data.shape)\n",
        "\n",
        "# checking null values\n",
        "print (\"Null values in the dataset : \\n\", train_data.isnull().sum(axis = 0))\n",
        "print (\"Null values in the dataset : \\n\", test_data.isnull().sum(axis = 0))"
      ],
      "execution_count": 3,
      "outputs": [
        {
          "output_type": "stream",
          "name": "stdout",
          "text": [
            "The shape of train data: (53766, 7)\n",
            "The shape of test data: (161297, 7)\n",
            "Null values in the dataset : \n",
            " uniqueID         0\n",
            "drugName         0\n",
            "condition      295\n",
            "review           0\n",
            "rating           0\n",
            "date             0\n",
            "usefulCount      0\n",
            "dtype: int64\n",
            "Null values in the dataset : \n",
            " uniqueID         0\n",
            "drugName         0\n",
            "condition      899\n",
            "review           0\n",
            "rating           0\n",
            "date             0\n",
            "usefulCount      0\n",
            "dtype: int64\n"
          ]
        }
      ]
    },
    {
      "cell_type": "code",
      "metadata": {
        "colab": {
          "base_uri": "https://localhost:8080/"
        },
        "id": "GlA7Cyde9f6F",
        "outputId": "73fb4cdd-a005-41d7-ba27-77328eaddf63"
      },
      "source": [
        "#removing null values\n",
        "train_data = train_data.dropna()\n",
        "test_data = test_data.dropna()\n",
        "\n",
        "#After removing the null values \n",
        "print('Shape of the train data:',train_data.shape)\n",
        "print('Shape of the test data:',test_data.shape)\n",
        "\n",
        "# checking null values\n",
        "print (\"Null values in the dataset : \\n\", train_data.isnull().sum(axis = 0))\n",
        "print (\"Null values in the dataset : \\n\", test_data.isnull().sum(axis = 0))"
      ],
      "execution_count": 4,
      "outputs": [
        {
          "output_type": "stream",
          "name": "stdout",
          "text": [
            "Shape of the train data: (53471, 7)\n",
            "Shape of the test data: (160398, 7)\n",
            "Null values in the dataset : \n",
            " uniqueID       0\n",
            "drugName       0\n",
            "condition      0\n",
            "review         0\n",
            "rating         0\n",
            "date           0\n",
            "usefulCount    0\n",
            "dtype: int64\n",
            "Null values in the dataset : \n",
            " uniqueID       0\n",
            "drugName       0\n",
            "condition      0\n",
            "review         0\n",
            "rating         0\n",
            "date           0\n",
            "usefulCount    0\n",
            "dtype: int64\n"
          ]
        }
      ]
    },
    {
      "cell_type": "code",
      "metadata": {
        "id": "vYTFn9vG9j8H"
      },
      "source": [
        "# Data cleaning using Regex or Regular Expression\n",
        "import re\n",
        "\n",
        "def clean_text(x):\n",
        "    pattern = r'[^a-zA-z0-9\\s]'\n",
        "    text = re.sub(pattern, '', x)\n",
        "    return x\n",
        "\n",
        "def clean_numbers(x):\n",
        "    if bool(re.search(r'\\d', x)):\n",
        "        x = re.sub('[0-9]{5,}', '#####', x)\n",
        "        x = re.sub('[0-9]{4}', '####', x)\n",
        "        x = re.sub('[0-9]{3}', '###', x)\n",
        "        x = re.sub('[0-9]{2}', '##', x)\n",
        "        x = re.sub('#{1}','',x)\n",
        "        x = re.sub('[&;]{2}',\"'\",x)\n",
        "        x = re.sub('\\r\\n','',x)\n",
        "        x = re.sub('</span>','',x)\n",
        "        x = re.sub('\"','',x)\n",
        "    return x"
      ],
      "execution_count": 5,
      "outputs": []
    },
    {
      "cell_type": "code",
      "metadata": {
        "colab": {
          "base_uri": "https://localhost:8080/",
          "height": 35
        },
        "id": "ypHmwX599sUN",
        "outputId": "0dcfd124-60fa-40ec-9a1a-676ff1004177"
      },
      "source": [
        "contraction_dict = {\"ain't\": \"is not\", \"aren't\": \"are not\",\"can't\": \"cannot\", \"'cause\": \"because\", \"could've\": \"could have\", \"couldn't\": \"could not\", \"didn't\": \"did not\",  \"doesn't\": \"does not\", \"don't\": \"do not\", \"hadn't\": \"had not\", \"hasn't\": \"has not\", \"haven't\": \"have not\", \"he'd\": \"he would\",\"he'll\": \"he will\", \"he's\": \"he is\", \"how'd\": \"how did\", \"how'd'y\": \"how do you\", \"how'll\": \"how will\", \"how's\": \"how is\",  \"I'd\": \"I would\", \"I'd've\": \"I would have\", \"I'll\": \"I will\", \"I'll've\": \"I will have\",\"I'm\": \"I am\", \"I've\": \"I have\", \"i'd\": \"i would\", \"i'd've\": \"i would have\", \"i'll\": \"i will\",  \"i'll've\": \"i will have\",\"i'm\": \"i am\", \"i've\": \"i have\", \"isn't\": \"is not\", \"it'd\": \"it would\", \"it'd've\": \"it would have\", \"it'll\": \"it will\", \"it'll've\": \"it will have\",\"it's\": \"it is\", \"let's\": \"let us\", \"ma'am\": \"madam\", \"mayn't\": \"may not\", \"might've\": \"might have\",\"mightn't\": \"might not\",\"mightn't've\": \"might not have\", \"must've\": \"must have\", \"mustn't\": \"must not\", \"mustn't've\": \"must not have\", \"needn't\": \"need not\", \"needn't've\": \"need not have\",\"o'clock\": \"of the clock\", \"oughtn't\": \"ought not\", \"oughtn't've\": \"ought not have\", \"shan't\": \"shall not\", \"sha'n't\": \"shall not\", \"shan't've\": \"shall not have\", \"she'd\": \"she would\", \"she'd've\": \"she would have\", \"she'll\": \"she will\", \"she'll've\": \"she will have\", \"she's\": \"she is\", \"should've\": \"should have\", \"shouldn't\": \"should not\", \"shouldn't've\": \"should not have\", \"so've\": \"so have\",\"so's\": \"so as\", \"this's\": \"this is\",\"that'd\": \"that would\", \"that'd've\": \"that would have\", \"that's\": \"that is\", \"there'd\": \"there would\", \"there'd've\": \"there would have\", \"there's\": \"there is\", \"here's\": \"here is\",\"they'd\": \"they would\", \"they'd've\": \"they would have\", \"they'll\": \"they will\", \"they'll've\": \"they will have\", \"they're\": \"they are\", \"they've\": \"they have\", \"to've\": \"to have\", \"wasn't\": \"was not\", \"we'd\": \"we would\", \"we'd've\": \"we would have\", \"we'll\": \"we will\", \"we'll've\": \"we will have\", \"we're\": \"we are\", \"we've\": \"we have\", \"weren't\": \"were not\", \"what'll\": \"what will\", \"what'll've\": \"what will have\", \"what're\": \"what are\",  \"what's\": \"what is\", \"what've\": \"what have\", \"when's\": \"when is\", \"when've\": \"when have\", \"where'd\": \"where did\", \"where's\": \"where is\", \"where've\": \"where have\", \"who'll\": \"who will\", \"who'll've\": \"who will have\", \"who's\": \"who is\", \"who've\": \"who have\", \"why's\": \"why is\", \"why've\": \"why have\", \"will've\": \"will have\", \"won't\": \"will not\", \"won't've\": \"will not have\", \"would've\": \"would have\", \"wouldn't\": \"would not\", \"wouldn't've\": \"would not have\", \"y'all\": \"you all\", \"y'all'd\": \"you all would\",\"y'all'd've\": \"you all would have\",\"y'all're\": \"you all are\",\"y'all've\": \"you all have\",\"you'd\": \"you would\", \"you'd've\": \"you would have\", \"you'll\": \"you will\", \"you'll've\": \"you will have\", \"you're\": \"you are\", \"you've\": \"you have\"}\n",
        "def _get_contractions(contraction_dict):\n",
        "    contraction_re = re.compile('(%s)' % '|'.join(contraction_dict.keys()))\n",
        "    return contraction_dict, contraction_re\n",
        "contractions, contractions_re = _get_contractions(contraction_dict)\n",
        "def replace_contractions(text):\n",
        "    def replace(match):\n",
        "        return contractions[match.group(0)]\n",
        "    return contractions_re.sub(replace, text)\n",
        "# Usage\n",
        "replace_contractions(\"this's a text with contraction\")"
      ],
      "execution_count": 6,
      "outputs": [
        {
          "output_type": "execute_result",
          "data": {
            "application/vnd.google.colaboratory.intrinsic+json": {
              "type": "string"
            },
            "text/plain": [
              "'this is a text with contraction'"
            ]
          },
          "metadata": {},
          "execution_count": 6
        }
      ]
    },
    {
      "cell_type": "code",
      "metadata": {
        "id": "SJX4oKkP9wjE"
      },
      "source": [
        "#For Train data\n",
        "# lower the text\n",
        "train_data[\"review\"] = train_data[\"review\"].apply(lambda x: x.lower())\n",
        "train_data[\"condition\"] =train_data['condition'].apply(lambda x:x.lower())\n",
        "\n",
        "# Clean the text\n",
        "train_data[\"review\"] = train_data[\"review\"].apply(lambda x: clean_text(x))\n",
        "train_data[\"condition\"] =train_data['condition'].apply(lambda x: clean_text(x))\n",
        "\n",
        "# Clean numbers\n",
        "train_data[\"review\"] = train_data[\"review\"].apply(lambda x: clean_numbers(x))\n",
        "train_data[\"condition\"] =train_data['condition'].apply(lambda x: clean_numbers(x))\n",
        "\n",
        "# Clean Contractions\n",
        "train_data[\"review\"] = train_data[\"review\"].apply(lambda x: replace_contractions(x))\n",
        "\n",
        "# For Test data\n",
        "# lower the text\n",
        "test_data[\"review\"] = test_data[\"review\"].apply(lambda x: x.lower())\n",
        "test_data[\"condition\"] =test_data['condition'].apply(lambda x: x.lower())\n",
        "\n",
        "# Clean the text\n",
        "test_data[\"review\"] = test_data[\"review\"].apply(lambda x: clean_text(x))\n",
        "test_data[\"condition\"] =test_data['condition'].apply(lambda x: clean_text(x))\n",
        "\n",
        "# Clean numbers\n",
        "test_data[\"review\"] = test_data[\"review\"].apply(lambda x: clean_numbers(x))\n",
        "test_data[\"condition\"] =test_data['condition'].apply(lambda x: clean_numbers(x))\n",
        "\n",
        "# Clean Contractions\n",
        "test_data[\"review\"] = test_data[\"review\"].apply(lambda x: replace_contractions(x))"
      ],
      "execution_count": 7,
      "outputs": []
    },
    {
      "cell_type": "code",
      "metadata": {
        "id": "qh0e_EJz99dI"
      },
      "source": [
        "discard = [\"found\"]\n",
        "\n",
        "#drop rows that contain the partial string \"users found this comment helpful\" in the conference column\n",
        "train_data =train_data[~train_data.condition.str.contains('|'.join(discard))]\n",
        "test_data = test_data[~test_data.condition.str.contains('|'.join(discard))]"
      ],
      "execution_count": 8,
      "outputs": []
    },
    {
      "cell_type": "code",
      "metadata": {
        "colab": {
          "base_uri": "https://localhost:8080/",
          "height": 435
        },
        "id": "QQDLO-C1-C5-",
        "outputId": "fb376d06-c305-485a-82f0-650bdda46ec1"
      },
      "source": [
        "def plot_bar_chart(df):\n",
        "    counts_series = df.condition.value_counts()\n",
        "    counts_df = pd.DataFrame(counts_series)\n",
        "    counts_df.reset_index(level=0, inplace=True)\n",
        "    \n",
        "    number_of_classes(df)\n",
        "    \n",
        "    fig= px.bar(counts_df, x=\"index\", y=\"condition\",orientation=\"v\",\n",
        "               height=400,\n",
        "               title='xc')\n",
        "    fig.show()\n",
        "    \n",
        "def number_of_classes(df):\n",
        "    print(\"Number of classes: \",len(df[\"condition\"].unique()))\n",
        "\n",
        "plot_bar_chart(train_data)"
      ],
      "execution_count": 9,
      "outputs": [
        {
          "output_type": "stream",
          "name": "stdout",
          "text": [
            "Number of classes:  664\n"
          ]
        },
        {
          "output_type": "display_data",
          "data": {
            "text/html": [
              "<html>\n",
              "<head><meta charset=\"utf-8\" /></head>\n",
              "<body>\n",
              "    <div>\n",
              "            <script src=\"https://cdnjs.cloudflare.com/ajax/libs/mathjax/2.7.5/MathJax.js?config=TeX-AMS-MML_SVG\"></script><script type=\"text/javascript\">if (window.MathJax) {MathJax.Hub.Config({SVG: {font: \"STIX-Web\"}});}</script>\n",
              "                <script type=\"text/javascript\">window.PlotlyConfig = {MathJaxConfig: 'local'};</script>\n",
              "        <script src=\"https://cdn.plot.ly/plotly-latest.min.js\"></script>    \n",
              "            <div id=\"eb8f62a8-75ff-46f9-93c1-11d63d889e91\" class=\"plotly-graph-div\" style=\"height:400px; width:100%;\"></div>\n",
              "            <script type=\"text/javascript\">\n",
              "                \n",
              "                    window.PLOTLYENV=window.PLOTLYENV || {};\n",
              "                    \n",
              "                if (document.getElementById(\"eb8f62a8-75ff-46f9-93c1-11d63d889e91\")) {\n",
              "                    Plotly.newPlot(\n",
              "                        'eb8f62a8-75ff-46f9-93c1-11d63d889e91',\n",
              "                        [{\"alignmentgroup\": \"True\", \"hoverlabel\": {\"namelength\": 0}, \"hovertemplate\": \"index=%{x}<br>condition=%{y}\", \"legendgroup\": \"\", \"marker\": {\"color\": \"#636efa\"}, \"name\": \"\", \"offsetgroup\": \"\", \"orientation\": \"v\", \"showlegend\": false, \"textposition\": \"auto\", \"type\": \"bar\", \"x\": [\"birth control\", \"depression\", \"pain\", \"anxiety\", \"acne\", \"bipolar disorde\", \"weight loss\", \"insomnia\", \"obesity\", \"adhd\", \"emergency contraception\", \"vaginal yeast infection\", \"diabetes, type 2\", \"high blood pressure\", \"smoking cessation\", \"abnormal uterine bleeding\", \"bowel preparation\", \"migraine\", \"ibromyalgia\", \"anxiety and stress\", \"constipation\", \"major depressive disorde\", \"chronic pain\", \"panic disorde\", \"migraine prevention\", \"urinary tract infection\", \"opiate dependence\", \"muscle spasm\", \"osteoarthritis\", \"erectile dysfunction\", \"generalized anxiety disorde\", \"allergic rhinitis\", \"irritable bowel syndrome\", \"rheumatoid arthritis\", \"bacterial infection\", \"cough\", \"sinusitis\", \"nausea/vomiting\", \"gerd\", \"hepatitis c\", \"hyperhidrosis\", \"restless legs syndrome\", \"overactive bladde\", \"multiple sclerosis\", \"high cholesterol\", \"hiv infection\", \"psoriasis\", \"schizophrenia\", \"hypogonadism, male\", \"endometriosis\", \"back pain\", \"constipation, chronic\", \"seizures\", \"rosacea\", \"obsessive compulsive disorde\", \"benign prostatic hyperplasia\", \"asthma, maintenance\", \"bronchitis\", \"headache\", \"bacterial vaginitis\", \"not listed / othe\", \"narcolepsy\", \"onychomycosis, toenail\", \"postmenopausal symptoms\", \"social anxiety disorde\", \"bladder infection\", \"alcohol dependence\", \"herpes simplex\", \"schizoaffective disorde\", \"menstrual disorders\", \"epilepsy\", \"post traumatic stress disorde\", \"underactive thyroid\", \"influenza\", \"cough and nasal congestion\", \"psoriatic arthritis\", \"opiate withdrawal\", \"cold sores\", \"inflammatory conditions\", \"nasal congestion\", \"breast cance\", \"chlamydia infection\", \"plaque psoriasis\", \"premenstrual dysphoric disorde\", \"neuropathic pain\", \"pneumonia\", \"anesthesia\", \"osteoporosis\", \"urticaria\", \"copd, maintenance\", \"polycystic ovary syndrome\", \"constipation, drug induced\", \"helicobacter pylori infection\", \"asthma\", \"ulcerative colitis\", \"atrial fibrillation\", \"crohn's disease, maintenance\", \"motion sickness\", \"mance anxiety\", \"hashimoto's disease\", \"seizure prevention\", \"diarrhea\", \"alcohol withdrawal\", \"hot flashes\", \"upper respiratory tract infection\", \"urinary incontinence\", \"sedation\", \"ankylosing spondylitis\", \"peripheral neuropathy\", \"gout, acute\", \"skin or soft tissue infection\", \"ovarian cysts\", \"otitis media\", \"dry eye disease\", \"atopic dermatitis\", \"diabetic peripheral neuropathy\", \"crohn's disease\", \"atrophic vaginitis\", \"eczema\", \"trigeminal neuralgia\", \"parkinson's disease\", \"borderline personality disorde\", \"allergies\", \"strep throat\", \"period pain\", \"hirsutism\", \"prostate cance\", \"cluster headaches\", \"interstitial cystitis\", \"keratosis\", \"diabetes, type 1\", \"copd\", \"bacterial skin infection\", \"herpes simplex, suppression\", \"prevention of thromboembolism in atrial fibrillation\", \"postherpetic neuralgia\", \"urinary tract stones\", \"ulcerative colitis, active\", \"diverticulitis\", \"arrhythmia\", \"edema\", \"non-small cell lung cance\", \"sciatica\", \"human papilloma virus\", \"nausea/vomiting of pregnancy\", \"systemic lupus erythematosus\", \"hypothyroidism, after thyroid removal\", \"obstructive sleep apnea/hypopnea syndrome\", \"premature lab\", \"alopecia\", \"cold symptoms\", \"dermatitis\", \"supraventricular tachycardia\", \"asthma, acute\", \"moterol)\", \"head lice\", \"kidney infections\", \"alzheimer's disease\", \"neuralgia\", \"autism\", \"muscle pain\", \"anorexia\", \"rhinitis\", \"angina\", \"renal cell carcinoma\", \"hemorrhoids\", \"postpartum depression\", \"allergic reactions\", \"sexual dysfunction, ssri induced\", \"binge eating disorde\", \"dysuria\", \"melasma\", \"chronic fatigue syndrome\", \"benign essential trem\", \"pseudotumor cerebri\", \"heart failure\", \"pulmonary hypertension\", \"breast cancer, metastatic\", \"gout\", \"amenorrhea\", \"chronic myelogenous leukemia\", \"hypertriglyceridemia\", \"keratoconjunctivitis sicca\", \"psychosis\", \"hypersomnia\", \"vitamin/mineral supplementation during pregnancy/lactation\", \"prostatitis\", \"shift work sleep disorde\", \"diarrhea, chronic\", \"deep vein thrombosis\", \"vertig\", \"tonsillitis/pharyngitis\", \"light sedation\", \"dental abscess\", \"dry skin\", \"chronic idiopathic constipation\", \"dietary supplementation\", \"emale infertility\", \"cervical dystonia\", \"atigue\", \"seasonal allergic conjunctivitis\", \"sinus symptoms\", \"stomach ulce\", \"conjunctivitis, allergic\", \"tendonitis\", \"tourette's syndrome\", \"mania\", \"indigestion\", \"pulmonary embolism\", \"erosive esophagitis\", \"trichomoniasis\", \"basal cell carcinoma\", \"constipation, acute\", \"skin and structure infection\", \"heart attack\", \"prevention of bladder infection\", \"high cholesterol, familial heterozygous\", \"barrett's esophagus\", \"conjunctivitis, bacterial\", \"sjogren's syndrome\", \"opioid-induced constipation\", \"glaucoma, open angle\", \"androgenetic alopecia\", \"pruritus\", \"uterine fibroids\", \"periodic limb movement disorde\", \"menorrhagia\", \"bulimia\", \"min)\", \"nausea/vomiting, chemotherapy induced\", \"perimenopausal symptoms\", \"eye redness\", \"iron deficiency anemia\", \"breakthrough pain\", \"malaria prevention\", \"hyperprolactinemia\", \"gastroparesis\", \"burns, external\", \"dermatological disorders\", \"postoperative pain\", \"raynaud's syndrome\", \"soft tissue sarcoma\", \"reflex sympathetic dystrophy syndrome\", \"light anesthesia\", \"myasthenia gravis\", \"organ transplant, rejection prophylaxis\", \"tinea pedis\", \"ulcerative colitis, maintenance\", \"primary immunodeficiency syndrome\", \"prevention of osteoporosis\", \"crohn's disease, acute\", \"chronic lymphocytic leukemia\", \"tinea versicol\", \"otitis externa\", \"neutropenia associated with chemotherapy\", \"pneumococcal disease prophylaxis\", \"acute coronary syndrome\", \"acial wrinkles\", \"cutaneous candidiasis\", \"lyme disease\", \"macular degeneration\", \"gastroenteritis\", \"postural orthostatic tachycardia syndrome\", \"eye redness/itching\", \"anemia\", \"temporomandibular joint disorde\", \"herpes zoste\", \"seborrheic dermatitis\", \"extrapyramidal reaction\", \"paranoid disorde\", \"vulvodynia\", \"angina pectoris prophylaxis\", \"tinea cruris\", \"mitral valve prolapse\", \"hypoestrogenism\", \"intraocular hypertension\", \"glaucoma\", \"inflammatory bowel disease\", \"gouty arthritis\", \"uveitis\", \"methicillin-resistant staphylococcus aureus infection\", \"atrial flutte\", \"ischemic stroke, prophylaxis\", \"meniere's disease\", \"insulin resistance syndrome\", \"min / sitagliptin)\", \"postoperative ocular inflammation\", \"human papillomavirus prophylaxis\", \"anemia associated with chronic renal failure\", \"hepatic encephalopathy\", \"xerostomia\", \"nocturnal leg cramps\", \"agitated state\", \"juvenile rheumatoid arthritis\", \"ovulation induction\", \"actinic keratosis\", \"photoaging of the skin\", \"tinnitus\", \"clostridial infection\", \"onychomycosis, fingernail\", \"hereditary angioedema\", \"giardiasis\", \"cystic fibrosis\", \"diabetes insipidus\", \"zen shoulde\", \"duodenal ulce\", \"premenstrual syndrome\", \"conjunctivitis\", \"swine flu\", \"left ventricular dysfunction\", \"asperger syndrome\", \"juvenile idiopathic arthritis\", \"moterol / mometasone)\", \"vitamin/mineral supplementation and deficiency\", \"pseudobulbar affect\", \"nightmares\", \"undifferentiated connective tissue disease\", \"diagnosis and investigation\", \"benzodiazepine withdrawal\", \"idiopathic thrombocytopenic purpura\", \"pancreatic exocrine dysfunction\", \"surgical prophylaxis\", \"hepatitis b\", \"gas\", \"malaria\", \"bronchospasm prophylaxis\", \"hiccups\", \"dermatologic lesion\", \"herpes simplex, mucocutaneous/immunocompetent host\", \"ge (amlodipine / valsartan)\", \"breast cancer, adjuvant\", \"night terrors\", \"nausea/vomiting, postoperative\", \"tsh suppression\", \"autoimmune hepatitis\", \"myelodysplastic syndrome\", \"diaper rash\", \"deep vein thrombosis, prophylaxis\", \"tinea corporis\", \"allergic urticaria\", \"pinworm infection (enterobius vermicularis)\", \"precocious puberty\", \"agitation\", \"vitamin d deficiency\", \"noninfectious colitis\", \"diabetic kidney disease\", \"labor induction\", \"chronic pancreatitis\", \"breast cancer, prevention\", \"hyperlipoproteinemia type iia, elevated ldl\", \"dyspareunia\", \"cyclic vomiting syndrome\", \"burning mouth syndrome\", \"non-hodgkin's lymphoma\", \"nasal polyps\", \"labor pain\", \"gingivitis\", \"herbal supplementation\", \"opioid overdose\", \"vitamin b deficiency\", \"peptic ulce\", \"copd, acute\", \"condylomata acuminata\", \"dysautonomia\", \"infection prophylaxis\", \"mucositis\", \"lennox-gastaut syndrome\", \"anal fissure and fistula\", \"influenza prophylaxis\", \"hyperphosphatemia of renal failure\", \"biliary cirrhosis\", \"spondyloarthritis\", \"mycobacterium avium-intracellulare, treatment\", \"auditory processing disorde\", \"lyme disease, neurologic\", \"hypotension\", \"lactation augmentation\", \"gastrointestinal stromal tum\", \"oral thrush\", \"bullous pemphigoid\", \"reversal of opioid sedation\", \"atrophic urethritis\", \"osteolytic bone lesions of multiple myeloma\", \"pe\", \"mountain sickness / altitude sickness\", \"skin cance\", \"menopausal disorders\", \"sarcoidosis\", \"pediatric growth hormone deficiency\", \"eve\", \"bone infection\", \"llicle stimulation\", \"occipital neuralgia\", \"pelvic inflammatory disease\", \"dystonia\", \"min / saxagliptin)\", \"gastrointestinal decontamination\", \"diarrhea, acute\", \"anal itching\", \"skin disinfection, preoperative\", \"anemia, sickle cell\", \"primary ovarian failure\", \"ventricular tachycardia\", \"computed tomography\", \"thyroid cance\", \"lic acid deficiency\", \"aphthous ulce\", \"lichen planus\", \"hyperthyroidism\", \"insomnia, stimulant-associated\", \"multiple myeloma\", \"dercum's disease\", \"dietary fiber supplementation\", \"endometrial cance\", \"aplastic anemia\", \"intermittent claudication\", \"skin rash\", \"oophorectomy\", \"high cholesterol, familial homozygous\", \"gastric ulcer maintenance treatment\", \"percutaneous coronary intervention\", \"primary nocturnal enuresis\", \"adrenocortical insufficiency\", \"nsaid-induced gastric ulce\", \"macular edema\", \"deep vein thrombosis prophylaxis after hip replacement surgery\", \"amebiasis\", \"gastritis/duodenitis\", \"mild cognitive impairment\", \"hypomagnesemia\", \"perioral dermatitis\", \"women (oxybutynin)\", \"secondary hyperparathyroidism\", \"lipodystrophy\", \"seasonal affective disorde\", \"melanoma, metastatic\", \"diabetic macular edema\", \"ear wax impaction\", \"persistent depressive disorde\", \"hypocalcemia\", \"progesterone insufficiency\", \"ulcerative proctitis\", \"deep neck infection\", \"rhinorrhea\", \"iritis\", \"peritonitis\", \"bursitis\", \"osteolytic bone metastases of solid tumors\", \"impetig\", \"von willebrand's disease\", \"lymphoma\", \"eyelash hypotrichosis\", \"bacterial endocarditis prevention\", \"tuberculosis, latent\", \"endometrial hyperplasia\", \"hidradenitis suppurativa\", \"prevention of cardiovascular disease\", \"mulation) (phenylephrine)\", \"ophthalmic surgery\", \"local anesthesia\", \"bacteremia\", \"new daily persistent headache\", \"premature ventricular depolarizations\", \"cance\", \"pupillary dilation\", \"bleeding disorde\", \"breast cancer, palliative\", \"thrombocythemia\", \"ventricular fibrillation\", \"salmonella gastroenteritis\", \"hyperekplexia\", \"traveler's diarrhea\", \"opiate adjunct\", \"acute lymphoblastic leukemia\", \"schnitzler syndrome\", \"costochondritis\", \"platelet aggregation inhibition\", \"periodontitis\", \"dandruff\", \"systemic sclerosis\", \"occupational exposure\", \"icu agitation\", \"gonococcal infection, uncomplicated\", \"warts\", \"prevention of dental caries\", \"addison's disease\", \"renal tubular acidosis\", \"cerebral spasticity\", \"expectoration\", \"performance anxiety\", \"abortion\", \"pharyngitis\", \"deep vein thrombosis, recurrent event\", \"hypoparathyroidism\", \"acute otitis externa\", \"streptococcal infection\", \"behcet's disease\", \"chronic spasticity\", \"aids related wasting\", \"neck pain\", \"polymyositis/dermatomyositis\", \"hyperlipoproteinemia\", \"glioblastoma multiforme\", \"submental fullness\", \"gallbladder disease\", \"post-cholecystectomy diarrhea\", \"hepatocellular carcinoma\", \"mycoplasma pneumonia\", \"corneal refractive surgery\", \"liver magnetic resonance imaging\", \"mantle cell lymphoma\", \"dumping syndrome\", \"varicella-zoste\", \"deep vein thrombosis, first event\", \"chronic myofascial pain\", \"oligospermia\", \"m pain disorde\", \"uterine bleeding\", \"antiphospholipid syndrome\", \"alpha-1 proteinase inhibitor deficiency\", \"pulmonary embolism, first event\", \"lymphocytic colitis\", \"trichotillomania\", \"hypercalcemia of malignancy\", \"lactose intolerance\", \"colorectal cance\", \"scabies\", \"ischemic stroke\", \"intraabdominal infection\", \"thromboembolic stroke prophylaxis\", \"paget's disease\", \"lichen sclerosus\", \"gastrointestinal hemorrhage\", \"still's disease\", \"systemic mastocytosis\", \"cataplexy\", \"meningococcal meningitis prophylaxis\", \"postoperative increased intraocular pressure\", \"sunburn\", \"actor ix deficiency\", \"strongyloidiasis\", \"chronic inflammatory demyelinating polyradiculoneuropathy\", \"herpes simplex dendritic keratitis\", \"anaplastic astrocytoma\", \"epididymitis, sexually transmitted\", \"pertussis\", \"keratitis\", \"hyperkalemia\", \"topical disinfection\", \"hypokalemic periodic paralysis\", \"schilling test\", \"gonadotropin inhibition\", \"hemophilia a\", \"cyclitis\", \"parkinsonism\", \"anemia, chemotherapy induced\", \"urinary retention\", \"oppositional defiant disorde\", \"steroid responsive inflammatory conditions\", \"ichthyosis\", \"autoimmune hemolytic anemia\", \"transient ischemic attack\", \"myotonia congenita\", \"nasal carriage of staphylococcus aureus\", \"eosinophilic esophagitis\", \"acetaminophen overdose\", \"polycythemia vera\", \"yellow fever prophylaxis\", \"squamous cell carcinoma\", \"pemphigoid\", \"zollinger-ellison syndrome\", \"cal segmental glomerulosclerosis\", \"pain/feve\", \"dermatomyositis\", \"syringomyelia\", \"nausea (phosphorated carbohydrate solution)\", \"stomach cance\", \"tic (mycophenolic acid)\", \"pulmonary edema\", \"dissociative identity disorde\", \"giant cell tumor of bone\", \"pancreatic cance\", \"status epilepticus\", \"prevention of hypokalemia\", \"joint infection\", \"hypoactive sexual desire disorde\", \"enterocolitis\", \"organ transplant, rejection reversal\", \"ventricular arrhythmia\", \"glioblastoma multi\", \"stress ulcer prophylaxis\", \"mononucleosis\", \"wolff-parkinson-white syndrome\", \"hypertensive emergency\", \"coccidioidomycosis\", \"cmv prophylaxis\", \"uveitis, posteri\", \"acial lipoatrophy\", \"acute promyelocytic leukemia\", \"melanoma\", \"strabismus\", \"dementia\", \"wegener's granulomatosis\", \"adult human growth hormone deficiency\", \"primary hyperaldosteronism\", \"ibrocystic breast disease\", \"oral and dental conditions\", \"peripheral arterial disease\", \"body dysmorphic disorde\", \"cyclothymic disorde\", \"myeloproliferative disorders\", \"anthrax\", \"blepharitis\", \"hyperphosphatemia\", \"acute nonlymphocytic leukemia\", \"pudendal neuralgia\", \"leukemia\", \"dupuytren's contracture\", \"b nutritional deficiency\", \"lyme disease, erythema chronicum migrans\", \"herpes zoster, prophylaxis\", \"coronary artery disease\", \"cachexia\", \"gender dysphoria\", \"upper limb spasticity\", \"histoplasmosis\", \"mixed connective tissue disease\", \"thyrotoxicosis\", \"ovarian cance\", \"me\", \"ehrlichiosis\", \"sore throat\", \"neutropenia\", \"esophageal variceal hemorrhage prophylaxis\", \"small bowel or pancreatic fistula\", \"immunosuppression\", \"spondylolisthesis\", \"head injury\", \"cerebral edema\", \"tympanostomy tube placement surgery\", \"radionuclide myocardial perfusion study\", \"pityriasis rubra pilaris\", \"reversal of nondepolarizing muscle relaxants\", \"nephrotic syndrome\", \"myelofibrosis\", \"pertussis prophylaxis\", \"jet lag\", \"somat\", \"hypodermoclysis\", \"nonoccupational exposure\", \"head and neck cance\", \"hemophilia b\", \"premature ejaculation\", \"amilial cold autoinflammatory syndrome\", \"herpes simplex, mucocutaneous/immunocompromised host\", \"subarachnoid hemorrhage\", \"dermatophytosis\", \"pemphigus\", \"hemorrhoids (pramoxine / zinc oxide)\", \"aspergillosis, aspergilloma\", \"pre-exposure prophylaxis\", \"rat-bite feve\", \"cutaneous t-cell lymphoma\", \"mist (\"], \"xaxis\": \"x\", \"y\": [9648, 3095, 2100, 1908, 1847, 1380, 1248, 1231, 1189, 1126, 827, 811, 808, 783, 660, 648, 639, 583, 579, 573, 525, 524, 485, 469, 454, 431, 398, 387, 387, 381, 378, 350, 325, 320, 307, 297, 289, 266, 246, 245, 240, 240, 234, 215, 206, 202, 198, 195, 195, 192, 192, 179, 176, 175, 173, 165, 158, 157, 153, 153, 153, 152, 137, 136, 133, 130, 130, 129, 127, 127, 120, 118, 118, 117, 113, 112, 107, 105, 103, 100, 99, 98, 98, 98, 96, 88, 86, 86, 80, 78, 78, 77, 77, 77, 75, 75, 74, 72, 72, 71, 71, 69, 68, 67, 64, 64, 63, 61, 60, 56, 56, 55, 55, 54, 54, 54, 53, 53, 52, 51, 50, 50, 49, 49, 48, 48, 47, 46, 45, 45, 45, 45, 45, 44, 44, 43, 43, 43, 43, 42, 41, 40, 40, 39, 38, 37, 37, 37, 36, 36, 35, 35, 35, 34, 34, 32, 32, 32, 31, 31, 31, 31, 31, 30, 30, 30, 30, 30, 29, 29, 28, 28, 28, 28, 28, 27, 26, 26, 26, 26, 26, 26, 26, 25, 25, 25, 24, 24, 24, 24, 23, 23, 23, 23, 22, 22, 22, 22, 21, 21, 21, 21, 21, 21, 21, 21, 20, 20, 20, 20, 19, 19, 19, 19, 19, 18, 18, 18, 18, 18, 18, 18, 17, 17, 17, 17, 16, 16, 15, 15, 15, 15, 15, 14, 14, 14, 14, 13, 13, 13, 13, 13, 13, 13, 13, 12, 12, 12, 12, 11, 11, 11, 11, 11, 11, 11, 11, 11, 10, 10, 10, 10, 10, 10, 10, 10, 10, 10, 10, 10, 10, 9, 9, 9, 9, 9, 9, 9, 9, 8, 8, 8, 8, 8, 8, 8, 8, 8, 8, 8, 8, 8, 8, 8, 8, 8, 8, 8, 8, 7, 7, 7, 7, 7, 7, 7, 7, 7, 7, 7, 7, 7, 7, 7, 7, 7, 7, 7, 7, 7, 7, 7, 7, 7, 7, 7, 6, 6, 6, 6, 6, 6, 6, 6, 6, 6, 6, 6, 6, 6, 6, 6, 6, 6, 5, 5, 5, 5, 5, 5, 5, 5, 5, 5, 5, 5, 5, 5, 5, 5, 5, 5, 5, 5, 5, 5, 5, 5, 5, 5, 5, 4, 4, 4, 4, 4, 4, 4, 4, 4, 4, 4, 4, 4, 4, 4, 4, 4, 4, 4, 4, 4, 4, 4, 4, 4, 4, 4, 4, 4, 4, 4, 4, 4, 4, 3, 3, 3, 3, 3, 3, 3, 3, 3, 3, 3, 3, 3, 3, 3, 3, 3, 3, 3, 3, 3, 3, 3, 3, 3, 3, 3, 3, 3, 3, 3, 3, 3, 3, 3, 3, 3, 3, 3, 3, 3, 3, 3, 3, 3, 3, 3, 3, 3, 3, 3, 3, 3, 3, 3, 2, 2, 2, 2, 2, 2, 2, 2, 2, 2, 2, 2, 2, 2, 2, 2, 2, 2, 2, 2, 2, 2, 2, 2, 2, 2, 2, 2, 2, 2, 2, 2, 2, 2, 2, 2, 2, 2, 2, 2, 2, 2, 2, 2, 2, 2, 2, 2, 2, 2, 2, 2, 2, 2, 2, 2, 2, 2, 2, 2, 2, 2, 2, 2, 2, 2, 2, 2, 2, 2, 2, 2, 2, 2, 2, 2, 1, 1, 1, 1, 1, 1, 1, 1, 1, 1, 1, 1, 1, 1, 1, 1, 1, 1, 1, 1, 1, 1, 1, 1, 1, 1, 1, 1, 1, 1, 1, 1, 1, 1, 1, 1, 1, 1, 1, 1, 1, 1, 1, 1, 1, 1, 1, 1, 1, 1, 1, 1, 1, 1, 1, 1, 1, 1, 1, 1, 1, 1, 1, 1, 1, 1, 1, 1, 1, 1, 1, 1, 1, 1, 1, 1, 1, 1, 1, 1, 1, 1, 1, 1, 1, 1, 1, 1, 1, 1, 1, 1, 1, 1, 1, 1, 1, 1, 1, 1, 1, 1, 1, 1, 1, 1, 1, 1, 1, 1, 1, 1, 1, 1, 1, 1, 1, 1, 1, 1, 1, 1, 1, 1, 1, 1, 1, 1], \"yaxis\": \"y\"}],\n",
              "                        {\"barmode\": \"relative\", \"height\": 400, \"legend\": {\"tracegroupgap\": 0}, \"template\": {\"data\": {\"bar\": [{\"error_x\": {\"color\": \"#2a3f5f\"}, \"error_y\": {\"color\": \"#2a3f5f\"}, \"marker\": {\"line\": {\"color\": \"#E5ECF6\", \"width\": 0.5}}, \"type\": \"bar\"}], \"barpolar\": [{\"marker\": {\"line\": {\"color\": \"#E5ECF6\", \"width\": 0.5}}, \"type\": \"barpolar\"}], \"carpet\": [{\"aaxis\": {\"endlinecolor\": \"#2a3f5f\", \"gridcolor\": \"white\", \"linecolor\": \"white\", \"minorgridcolor\": \"white\", \"startlinecolor\": \"#2a3f5f\"}, \"baxis\": {\"endlinecolor\": \"#2a3f5f\", \"gridcolor\": \"white\", \"linecolor\": \"white\", \"minorgridcolor\": \"white\", \"startlinecolor\": \"#2a3f5f\"}, \"type\": \"carpet\"}], \"choropleth\": [{\"colorbar\": {\"outlinewidth\": 0, \"ticks\": \"\"}, \"type\": \"choropleth\"}], \"contour\": [{\"colorbar\": {\"outlinewidth\": 0, \"ticks\": \"\"}, \"colorscale\": [[0.0, \"#0d0887\"], [0.1111111111111111, \"#46039f\"], [0.2222222222222222, \"#7201a8\"], [0.3333333333333333, \"#9c179e\"], [0.4444444444444444, \"#bd3786\"], [0.5555555555555556, \"#d8576b\"], [0.6666666666666666, \"#ed7953\"], [0.7777777777777778, \"#fb9f3a\"], [0.8888888888888888, \"#fdca26\"], [1.0, \"#f0f921\"]], \"type\": \"contour\"}], \"contourcarpet\": [{\"colorbar\": {\"outlinewidth\": 0, \"ticks\": \"\"}, \"type\": \"contourcarpet\"}], \"heatmap\": [{\"colorbar\": {\"outlinewidth\": 0, \"ticks\": \"\"}, \"colorscale\": [[0.0, \"#0d0887\"], [0.1111111111111111, \"#46039f\"], [0.2222222222222222, \"#7201a8\"], [0.3333333333333333, \"#9c179e\"], [0.4444444444444444, \"#bd3786\"], [0.5555555555555556, \"#d8576b\"], [0.6666666666666666, \"#ed7953\"], [0.7777777777777778, \"#fb9f3a\"], [0.8888888888888888, \"#fdca26\"], [1.0, \"#f0f921\"]], \"type\": \"heatmap\"}], \"heatmapgl\": [{\"colorbar\": {\"outlinewidth\": 0, \"ticks\": \"\"}, \"colorscale\": [[0.0, \"#0d0887\"], [0.1111111111111111, \"#46039f\"], [0.2222222222222222, \"#7201a8\"], [0.3333333333333333, \"#9c179e\"], [0.4444444444444444, \"#bd3786\"], [0.5555555555555556, \"#d8576b\"], [0.6666666666666666, \"#ed7953\"], [0.7777777777777778, \"#fb9f3a\"], [0.8888888888888888, \"#fdca26\"], [1.0, \"#f0f921\"]], \"type\": \"heatmapgl\"}], \"histogram\": [{\"marker\": {\"colorbar\": {\"outlinewidth\": 0, \"ticks\": \"\"}}, \"type\": \"histogram\"}], \"histogram2d\": [{\"colorbar\": {\"outlinewidth\": 0, \"ticks\": \"\"}, \"colorscale\": [[0.0, \"#0d0887\"], [0.1111111111111111, \"#46039f\"], [0.2222222222222222, \"#7201a8\"], [0.3333333333333333, \"#9c179e\"], [0.4444444444444444, \"#bd3786\"], [0.5555555555555556, \"#d8576b\"], [0.6666666666666666, \"#ed7953\"], [0.7777777777777778, \"#fb9f3a\"], [0.8888888888888888, \"#fdca26\"], [1.0, \"#f0f921\"]], \"type\": \"histogram2d\"}], \"histogram2dcontour\": [{\"colorbar\": {\"outlinewidth\": 0, \"ticks\": \"\"}, \"colorscale\": [[0.0, \"#0d0887\"], [0.1111111111111111, \"#46039f\"], [0.2222222222222222, \"#7201a8\"], [0.3333333333333333, \"#9c179e\"], [0.4444444444444444, \"#bd3786\"], [0.5555555555555556, \"#d8576b\"], [0.6666666666666666, \"#ed7953\"], [0.7777777777777778, \"#fb9f3a\"], [0.8888888888888888, \"#fdca26\"], [1.0, \"#f0f921\"]], \"type\": \"histogram2dcontour\"}], \"mesh3d\": [{\"colorbar\": {\"outlinewidth\": 0, \"ticks\": \"\"}, \"type\": \"mesh3d\"}], \"parcoords\": [{\"line\": {\"colorbar\": {\"outlinewidth\": 0, \"ticks\": \"\"}}, \"type\": \"parcoords\"}], \"pie\": [{\"automargin\": true, \"type\": \"pie\"}], \"scatter\": [{\"marker\": {\"colorbar\": {\"outlinewidth\": 0, \"ticks\": \"\"}}, \"type\": \"scatter\"}], \"scatter3d\": [{\"line\": {\"colorbar\": {\"outlinewidth\": 0, \"ticks\": \"\"}}, \"marker\": {\"colorbar\": {\"outlinewidth\": 0, \"ticks\": \"\"}}, \"type\": \"scatter3d\"}], \"scattercarpet\": [{\"marker\": {\"colorbar\": {\"outlinewidth\": 0, \"ticks\": \"\"}}, \"type\": \"scattercarpet\"}], \"scattergeo\": [{\"marker\": {\"colorbar\": {\"outlinewidth\": 0, \"ticks\": \"\"}}, \"type\": \"scattergeo\"}], \"scattergl\": [{\"marker\": {\"colorbar\": {\"outlinewidth\": 0, \"ticks\": \"\"}}, \"type\": \"scattergl\"}], \"scattermapbox\": [{\"marker\": {\"colorbar\": {\"outlinewidth\": 0, \"ticks\": \"\"}}, \"type\": \"scattermapbox\"}], \"scatterpolar\": [{\"marker\": {\"colorbar\": {\"outlinewidth\": 0, \"ticks\": \"\"}}, \"type\": \"scatterpolar\"}], \"scatterpolargl\": [{\"marker\": {\"colorbar\": {\"outlinewidth\": 0, \"ticks\": \"\"}}, \"type\": \"scatterpolargl\"}], \"scatterternary\": [{\"marker\": {\"colorbar\": {\"outlinewidth\": 0, \"ticks\": \"\"}}, \"type\": \"scatterternary\"}], \"surface\": [{\"colorbar\": {\"outlinewidth\": 0, \"ticks\": \"\"}, \"colorscale\": [[0.0, \"#0d0887\"], [0.1111111111111111, \"#46039f\"], [0.2222222222222222, \"#7201a8\"], [0.3333333333333333, \"#9c179e\"], [0.4444444444444444, \"#bd3786\"], [0.5555555555555556, \"#d8576b\"], [0.6666666666666666, \"#ed7953\"], [0.7777777777777778, \"#fb9f3a\"], [0.8888888888888888, \"#fdca26\"], [1.0, \"#f0f921\"]], \"type\": \"surface\"}], \"table\": [{\"cells\": {\"fill\": {\"color\": \"#EBF0F8\"}, \"line\": {\"color\": \"white\"}}, \"header\": {\"fill\": {\"color\": \"#C8D4E3\"}, \"line\": {\"color\": \"white\"}}, \"type\": \"table\"}]}, \"layout\": {\"annotationdefaults\": {\"arrowcolor\": \"#2a3f5f\", \"arrowhead\": 0, \"arrowwidth\": 1}, \"coloraxis\": {\"colorbar\": {\"outlinewidth\": 0, \"ticks\": \"\"}}, \"colorscale\": {\"diverging\": [[0, \"#8e0152\"], [0.1, \"#c51b7d\"], [0.2, \"#de77ae\"], [0.3, \"#f1b6da\"], [0.4, \"#fde0ef\"], [0.5, \"#f7f7f7\"], [0.6, \"#e6f5d0\"], [0.7, \"#b8e186\"], [0.8, \"#7fbc41\"], [0.9, \"#4d9221\"], [1, \"#276419\"]], \"sequential\": [[0.0, \"#0d0887\"], [0.1111111111111111, \"#46039f\"], [0.2222222222222222, \"#7201a8\"], [0.3333333333333333, \"#9c179e\"], [0.4444444444444444, \"#bd3786\"], [0.5555555555555556, \"#d8576b\"], [0.6666666666666666, \"#ed7953\"], [0.7777777777777778, \"#fb9f3a\"], [0.8888888888888888, \"#fdca26\"], [1.0, \"#f0f921\"]], \"sequentialminus\": [[0.0, \"#0d0887\"], [0.1111111111111111, \"#46039f\"], [0.2222222222222222, \"#7201a8\"], [0.3333333333333333, \"#9c179e\"], [0.4444444444444444, \"#bd3786\"], [0.5555555555555556, \"#d8576b\"], [0.6666666666666666, \"#ed7953\"], [0.7777777777777778, \"#fb9f3a\"], [0.8888888888888888, \"#fdca26\"], [1.0, \"#f0f921\"]]}, \"colorway\": [\"#636efa\", \"#EF553B\", \"#00cc96\", \"#ab63fa\", \"#FFA15A\", \"#19d3f3\", \"#FF6692\", \"#B6E880\", \"#FF97FF\", \"#FECB52\"], \"font\": {\"color\": \"#2a3f5f\"}, \"geo\": {\"bgcolor\": \"white\", \"lakecolor\": \"white\", \"landcolor\": \"#E5ECF6\", \"showlakes\": true, \"showland\": true, \"subunitcolor\": \"white\"}, \"hoverlabel\": {\"align\": \"left\"}, \"hovermode\": \"closest\", \"mapbox\": {\"style\": \"light\"}, \"paper_bgcolor\": \"white\", \"plot_bgcolor\": \"#E5ECF6\", \"polar\": {\"angularaxis\": {\"gridcolor\": \"white\", \"linecolor\": \"white\", \"ticks\": \"\"}, \"bgcolor\": \"#E5ECF6\", \"radialaxis\": {\"gridcolor\": \"white\", \"linecolor\": \"white\", \"ticks\": \"\"}}, \"scene\": {\"xaxis\": {\"backgroundcolor\": \"#E5ECF6\", \"gridcolor\": \"white\", \"gridwidth\": 2, \"linecolor\": \"white\", \"showbackground\": true, \"ticks\": \"\", \"zerolinecolor\": \"white\"}, \"yaxis\": {\"backgroundcolor\": \"#E5ECF6\", \"gridcolor\": \"white\", \"gridwidth\": 2, \"linecolor\": \"white\", \"showbackground\": true, \"ticks\": \"\", \"zerolinecolor\": \"white\"}, \"zaxis\": {\"backgroundcolor\": \"#E5ECF6\", \"gridcolor\": \"white\", \"gridwidth\": 2, \"linecolor\": \"white\", \"showbackground\": true, \"ticks\": \"\", \"zerolinecolor\": \"white\"}}, \"shapedefaults\": {\"line\": {\"color\": \"#2a3f5f\"}}, \"ternary\": {\"aaxis\": {\"gridcolor\": \"white\", \"linecolor\": \"white\", \"ticks\": \"\"}, \"baxis\": {\"gridcolor\": \"white\", \"linecolor\": \"white\", \"ticks\": \"\"}, \"bgcolor\": \"#E5ECF6\", \"caxis\": {\"gridcolor\": \"white\", \"linecolor\": \"white\", \"ticks\": \"\"}}, \"title\": {\"x\": 0.05}, \"xaxis\": {\"automargin\": true, \"gridcolor\": \"white\", \"linecolor\": \"white\", \"ticks\": \"\", \"title\": {\"standoff\": 15}, \"zerolinecolor\": \"white\", \"zerolinewidth\": 2}, \"yaxis\": {\"automargin\": true, \"gridcolor\": \"white\", \"linecolor\": \"white\", \"ticks\": \"\", \"title\": {\"standoff\": 15}, \"zerolinecolor\": \"white\", \"zerolinewidth\": 2}}}, \"title\": {\"text\": \"xc\"}, \"xaxis\": {\"anchor\": \"y\", \"domain\": [0.0, 1.0], \"title\": {\"text\": \"index\"}}, \"yaxis\": {\"anchor\": \"x\", \"domain\": [0.0, 1.0], \"title\": {\"text\": \"condition\"}}},\n",
              "                        {\"responsive\": true}\n",
              "                    ).then(function(){\n",
              "                            \n",
              "var gd = document.getElementById('eb8f62a8-75ff-46f9-93c1-11d63d889e91');\n",
              "var x = new MutationObserver(function (mutations, observer) {{\n",
              "        var display = window.getComputedStyle(gd).display;\n",
              "        if (!display || display === 'none') {{\n",
              "            console.log([gd, 'removed!']);\n",
              "            Plotly.purge(gd);\n",
              "            observer.disconnect();\n",
              "        }}\n",
              "}});\n",
              "\n",
              "// Listen for the removal of the full notebook cells\n",
              "var notebookContainer = gd.closest('#notebook-container');\n",
              "if (notebookContainer) {{\n",
              "    x.observe(notebookContainer, {childList: true});\n",
              "}}\n",
              "\n",
              "// Listen for the clearing of the current output cell\n",
              "var outputEl = gd.closest('.output');\n",
              "if (outputEl) {{\n",
              "    x.observe(outputEl, {childList: true});\n",
              "}}\n",
              "\n",
              "                        })\n",
              "                };\n",
              "                \n",
              "            </script>\n",
              "        </div>\n",
              "</body>\n",
              "</html>"
            ]
          },
          "metadata": {}
        }
      ]
    },
    {
      "cell_type": "code",
      "metadata": {
        "colab": {
          "base_uri": "https://localhost:8080/"
        },
        "id": "p-eDDKQ7-Ghn",
        "outputId": "47a53062-8508-4c26-f4e7-005b29372c69"
      },
      "source": [
        "# We will keep those classes which have more than 20 values in them\n",
        "index_counts = train_data[\"condition\"].value_counts()[train_data.condition.value_counts()>=20].index\n",
        "train_data = train_data[train_data[\"condition\"].isin(index_counts)]\n",
        "\n",
        "number_of_classes(train_data)"
      ],
      "execution_count": 10,
      "outputs": [
        {
          "output_type": "stream",
          "name": "stdout",
          "text": [
            "Number of classes:  210\n"
          ]
        }
      ]
    },
    {
      "cell_type": "code",
      "metadata": {
        "id": "5LpGN9Bc_NqP"
      },
      "source": [
        "condition_over200 = train_data[\"condition\"].value_counts()[train_data.condition.value_counts() >= 200].index\n",
        "\n",
        "for condition in condition_over200:\n",
        "    # randomly shuffle the samples\n",
        "    condition_samples = train_data[train_data[\"condition\"]==condition]\n",
        "    condition_samples = condition_samples.sample(frac=1).reset_index(drop=True)\n",
        "\n",
        "    # extract only 200\n",
        "    condition_samples = condition_samples[:200]\n",
        "\n",
        "    train_data = train_data[train_data[\"condition\"]!=condition]\n",
        "    # put it back\n",
        "    train_data = pd.concat([train_data, condition_samples], ignore_index=True)"
      ],
      "execution_count": 11,
      "outputs": []
    },
    {
      "cell_type": "code",
      "metadata": {
        "id": "bJ6sS43a_oQO"
      },
      "source": [
        "def filter_labels(labels):\n",
        "    labels = labels.tolist()\n",
        "    labels_truth = []\n",
        "    for label in labels:\n",
        "        if label[0].isdigit():\n",
        "            labels_truth.append(False)\n",
        "        else:\n",
        "            labels_truth.append(True)\n",
        "    return labels_truth"
      ],
      "execution_count": 12,
      "outputs": []
    },
    {
      "cell_type": "code",
      "metadata": {
        "colab": {
          "base_uri": "https://localhost:8080/"
        },
        "id": "sLPj7PAD_r1n",
        "outputId": "4bbb55e8-2133-4034-f5b1-89c273306074"
      },
      "source": [
        "#For Train data\n",
        "train_data = train_data[filter_labels(train_data[\"condition\"])]\n",
        "print(\"Train \", number_of_classes(train_data))\n",
        "\n",
        "#For Test data\n",
        "test_data = test_data[filter_labels(test_data[\"condition\"])]\n",
        "print(\"Test \", number_of_classes(test_data))"
      ],
      "execution_count": 13,
      "outputs": [
        {
          "output_type": "stream",
          "name": "stdout",
          "text": [
            "Number of classes:  210\n",
            "Train  None\n",
            "Number of classes:  811\n",
            "Test  None\n"
          ]
        }
      ]
    },
    {
      "cell_type": "code",
      "metadata": {
        "colab": {
          "base_uri": "https://localhost:8080/",
          "height": 452
        },
        "id": "1AIuCNnz_2GU",
        "outputId": "96bc0ea9-58ae-4780-d797-6850d8b40d94"
      },
      "source": [
        "# keeping those classes which are in the training set, in to the test set\n",
        "test_data = test_data[test_data[\"condition\"].isin(train_data[\"condition\"])]\n",
        "number_of_classes(test_data)\n",
        "plot_bar_chart(train_data)"
      ],
      "execution_count": 14,
      "outputs": [
        {
          "output_type": "stream",
          "name": "stdout",
          "text": [
            "Number of classes:  210\n",
            "Number of classes:  210\n"
          ]
        },
        {
          "output_type": "display_data",
          "data": {
            "text/html": [
              "<html>\n",
              "<head><meta charset=\"utf-8\" /></head>\n",
              "<body>\n",
              "    <div>\n",
              "            <script src=\"https://cdnjs.cloudflare.com/ajax/libs/mathjax/2.7.5/MathJax.js?config=TeX-AMS-MML_SVG\"></script><script type=\"text/javascript\">if (window.MathJax) {MathJax.Hub.Config({SVG: {font: \"STIX-Web\"}});}</script>\n",
              "                <script type=\"text/javascript\">window.PlotlyConfig = {MathJaxConfig: 'local'};</script>\n",
              "        <script src=\"https://cdn.plot.ly/plotly-latest.min.js\"></script>    \n",
              "            <div id=\"72b94765-81f0-4fda-8550-9a1b82a938bc\" class=\"plotly-graph-div\" style=\"height:400px; width:100%;\"></div>\n",
              "            <script type=\"text/javascript\">\n",
              "                \n",
              "                    window.PLOTLYENV=window.PLOTLYENV || {};\n",
              "                    \n",
              "                if (document.getElementById(\"72b94765-81f0-4fda-8550-9a1b82a938bc\")) {\n",
              "                    Plotly.newPlot(\n",
              "                        '72b94765-81f0-4fda-8550-9a1b82a938bc',\n",
              "                        [{\"alignmentgroup\": \"True\", \"hoverlabel\": {\"namelength\": 0}, \"hovertemplate\": \"index=%{x}<br>condition=%{y}\", \"legendgroup\": \"\", \"marker\": {\"color\": \"#636efa\"}, \"name\": \"\", \"offsetgroup\": \"\", \"orientation\": \"v\", \"showlegend\": false, \"textposition\": \"auto\", \"type\": \"bar\", \"x\": [\"opiate dependence\", \"overactive bladde\", \"allergic rhinitis\", \"migraine prevention\", \"osteoarthritis\", \"emergency contraception\", \"erectile dysfunction\", \"acne\", \"anxiety\", \"irritable bowel syndrome\", \"vaginal yeast infection\", \"hyperhidrosis\", \"smoking cessation\", \"high cholesterol\", \"cough\", \"abnormal uterine bleeding\", \"bipolar disorde\", \"ibromyalgia\", \"bowel preparation\", \"weight loss\", \"hepatitis c\", \"bacterial infection\", \"rheumatoid arthritis\", \"gerd\", \"anxiety and stress\", \"sinusitis\", \"depression\", \"obesity\", \"diabetes, type 2\", \"urinary tract infection\", \"nausea/vomiting\", \"chronic pain\", \"pain\", \"multiple sclerosis\", \"migraine\", \"adhd\", \"muscle spasm\", \"insomnia\", \"restless legs syndrome\", \"hiv infection\", \"panic disorde\", \"high blood pressure\", \"birth control\", \"generalized anxiety disorde\", \"major depressive disorde\", \"constipation\", \"psoriasis\", \"hypogonadism, male\", \"schizophrenia\", \"endometriosis\", \"back pain\", \"constipation, chronic\", \"seizures\", \"rosacea\", \"obsessive compulsive disorde\", \"benign prostatic hyperplasia\", \"asthma, maintenance\", \"bronchitis\", \"not listed / othe\", \"headache\", \"bacterial vaginitis\", \"narcolepsy\", \"onychomycosis, toenail\", \"postmenopausal symptoms\", \"social anxiety disorde\", \"alcohol dependence\", \"bladder infection\", \"herpes simplex\", \"schizoaffective disorde\", \"menstrual disorders\", \"epilepsy\", \"post traumatic stress disorde\", \"underactive thyroid\", \"influenza\", \"cough and nasal congestion\", \"psoriatic arthritis\", \"opiate withdrawal\", \"cold sores\", \"inflammatory conditions\", \"nasal congestion\", \"breast cance\", \"plaque psoriasis\", \"chlamydia infection\", \"premenstrual dysphoric disorde\", \"neuropathic pain\", \"pneumonia\", \"osteoporosis\", \"anesthesia\", \"urticaria\", \"copd, maintenance\", \"polycystic ovary syndrome\", \"constipation, drug induced\", \"helicobacter pylori infection\", \"asthma\", \"atrial fibrillation\", \"ulcerative colitis\", \"crohn's disease, maintenance\", \"mance anxiety\", \"motion sickness\", \"hashimoto's disease\", \"seizure prevention\", \"diarrhea\", \"alcohol withdrawal\", \"hot flashes\", \"upper respiratory tract infection\", \"urinary incontinence\", \"sedation\", \"ankylosing spondylitis\", \"peripheral neuropathy\", \"gout, acute\", \"skin or soft tissue infection\", \"otitis media\", \"ovarian cysts\", \"atopic dermatitis\", \"diabetic peripheral neuropathy\", \"dry eye disease\", \"crohn's disease\", \"atrophic vaginitis\", \"eczema\", \"trigeminal neuralgia\", \"parkinson's disease\", \"borderline personality disorde\", \"allergies\", \"strep throat\", \"hirsutism\", \"period pain\", \"prostate cance\", \"cluster headaches\", \"copd\", \"diabetes, type 1\", \"keratosis\", \"interstitial cystitis\", \"bacterial skin infection\", \"prevention of thromboembolism in atrial fibrillation\", \"herpes simplex, suppression\", \"diverticulitis\", \"urinary tract stones\", \"ulcerative colitis, active\", \"postherpetic neuralgia\", \"arrhythmia\", \"edema\", \"sciatica\", \"non-small cell lung cance\", \"human papilloma virus\", \"nausea/vomiting of pregnancy\", \"obstructive sleep apnea/hypopnea syndrome\", \"systemic lupus erythematosus\", \"hypothyroidism, after thyroid removal\", \"alopecia\", \"premature lab\", \"cold symptoms\", \"supraventricular tachycardia\", \"dermatitis\", \"asthma, acute\", \"moterol)\", \"head lice\", \"alzheimer's disease\", \"kidney infections\", \"neuralgia\", \"autism\", \"muscle pain\", \"rhinitis\", \"anorexia\", \"postpartum depression\", \"angina\", \"hemorrhoids\", \"allergic reactions\", \"renal cell carcinoma\", \"binge eating disorde\", \"sexual dysfunction, ssri induced\", \"dysuria\", \"pseudotumor cerebri\", \"benign essential trem\", \"chronic fatigue syndrome\", \"melasma\", \"heart failure\", \"keratoconjunctivitis sicca\", \"gout\", \"breast cancer, metastatic\", \"amenorrhea\", \"chronic myelogenous leukemia\", \"pulmonary hypertension\", \"hypertriglyceridemia\", \"hypersomnia\", \"psychosis\", \"vitamin/mineral supplementation during pregnancy/lactation\", \"prostatitis\", \"deep vein thrombosis\", \"diarrhea, chronic\", \"shift work sleep disorde\", \"vertig\", \"tonsillitis/pharyngitis\", \"dental abscess\", \"light sedation\", \"dry skin\", \"chronic idiopathic constipation\", \"dietary supplementation\", \"emale infertility\", \"tendonitis\", \"sinus symptoms\", \"stomach ulce\", \"conjunctivitis, allergic\", \"atigue\", \"seasonal allergic conjunctivitis\", \"cervical dystonia\", \"tourette's syndrome\", \"mania\", \"pulmonary embolism\", \"erosive esophagitis\", \"indigestion\"], \"xaxis\": \"x\", \"y\": [200, 200, 200, 200, 200, 200, 200, 200, 200, 200, 200, 200, 200, 200, 200, 200, 200, 200, 200, 200, 200, 200, 200, 200, 200, 200, 200, 200, 200, 200, 200, 200, 200, 200, 200, 200, 200, 200, 200, 200, 200, 200, 200, 200, 200, 200, 198, 195, 195, 192, 192, 179, 176, 175, 173, 165, 158, 157, 153, 153, 153, 152, 137, 136, 133, 130, 130, 129, 127, 127, 120, 118, 118, 117, 113, 112, 107, 105, 103, 100, 99, 98, 98, 98, 96, 88, 86, 86, 80, 78, 78, 77, 77, 77, 75, 75, 74, 72, 72, 71, 71, 69, 68, 67, 64, 64, 63, 61, 60, 56, 56, 55, 55, 54, 54, 54, 53, 53, 52, 51, 50, 50, 49, 49, 48, 48, 47, 46, 45, 45, 45, 45, 45, 44, 44, 43, 43, 43, 43, 42, 41, 40, 40, 39, 38, 37, 37, 37, 36, 36, 35, 35, 35, 34, 34, 32, 32, 32, 31, 31, 31, 31, 31, 30, 30, 30, 30, 30, 29, 29, 28, 28, 28, 28, 28, 27, 26, 26, 26, 26, 26, 26, 26, 25, 25, 25, 24, 24, 24, 24, 23, 23, 23, 23, 22, 22, 22, 22, 21, 21, 21, 21, 21, 21, 21, 21, 20, 20, 20, 20], \"yaxis\": \"y\"}],\n",
              "                        {\"barmode\": \"relative\", \"height\": 400, \"legend\": {\"tracegroupgap\": 0}, \"template\": {\"data\": {\"bar\": [{\"error_x\": {\"color\": \"#2a3f5f\"}, \"error_y\": {\"color\": \"#2a3f5f\"}, \"marker\": {\"line\": {\"color\": \"#E5ECF6\", \"width\": 0.5}}, \"type\": \"bar\"}], \"barpolar\": [{\"marker\": {\"line\": {\"color\": \"#E5ECF6\", \"width\": 0.5}}, \"type\": \"barpolar\"}], \"carpet\": [{\"aaxis\": {\"endlinecolor\": \"#2a3f5f\", \"gridcolor\": \"white\", \"linecolor\": \"white\", \"minorgridcolor\": \"white\", \"startlinecolor\": \"#2a3f5f\"}, \"baxis\": {\"endlinecolor\": \"#2a3f5f\", \"gridcolor\": \"white\", \"linecolor\": \"white\", \"minorgridcolor\": \"white\", \"startlinecolor\": \"#2a3f5f\"}, \"type\": \"carpet\"}], \"choropleth\": [{\"colorbar\": {\"outlinewidth\": 0, \"ticks\": \"\"}, \"type\": \"choropleth\"}], \"contour\": [{\"colorbar\": {\"outlinewidth\": 0, \"ticks\": \"\"}, \"colorscale\": [[0.0, \"#0d0887\"], [0.1111111111111111, \"#46039f\"], [0.2222222222222222, \"#7201a8\"], [0.3333333333333333, \"#9c179e\"], [0.4444444444444444, \"#bd3786\"], [0.5555555555555556, \"#d8576b\"], [0.6666666666666666, \"#ed7953\"], [0.7777777777777778, \"#fb9f3a\"], [0.8888888888888888, \"#fdca26\"], [1.0, \"#f0f921\"]], \"type\": \"contour\"}], \"contourcarpet\": [{\"colorbar\": {\"outlinewidth\": 0, \"ticks\": \"\"}, \"type\": \"contourcarpet\"}], \"heatmap\": [{\"colorbar\": {\"outlinewidth\": 0, \"ticks\": \"\"}, \"colorscale\": [[0.0, \"#0d0887\"], [0.1111111111111111, \"#46039f\"], [0.2222222222222222, \"#7201a8\"], [0.3333333333333333, \"#9c179e\"], [0.4444444444444444, \"#bd3786\"], [0.5555555555555556, \"#d8576b\"], [0.6666666666666666, \"#ed7953\"], [0.7777777777777778, \"#fb9f3a\"], [0.8888888888888888, \"#fdca26\"], [1.0, \"#f0f921\"]], \"type\": \"heatmap\"}], \"heatmapgl\": [{\"colorbar\": {\"outlinewidth\": 0, \"ticks\": \"\"}, \"colorscale\": [[0.0, \"#0d0887\"], [0.1111111111111111, \"#46039f\"], [0.2222222222222222, \"#7201a8\"], [0.3333333333333333, \"#9c179e\"], [0.4444444444444444, \"#bd3786\"], [0.5555555555555556, \"#d8576b\"], [0.6666666666666666, \"#ed7953\"], [0.7777777777777778, \"#fb9f3a\"], [0.8888888888888888, \"#fdca26\"], [1.0, \"#f0f921\"]], \"type\": \"heatmapgl\"}], \"histogram\": [{\"marker\": {\"colorbar\": {\"outlinewidth\": 0, \"ticks\": \"\"}}, \"type\": \"histogram\"}], \"histogram2d\": [{\"colorbar\": {\"outlinewidth\": 0, \"ticks\": \"\"}, \"colorscale\": [[0.0, \"#0d0887\"], [0.1111111111111111, \"#46039f\"], [0.2222222222222222, \"#7201a8\"], [0.3333333333333333, \"#9c179e\"], [0.4444444444444444, \"#bd3786\"], [0.5555555555555556, \"#d8576b\"], [0.6666666666666666, \"#ed7953\"], [0.7777777777777778, \"#fb9f3a\"], [0.8888888888888888, \"#fdca26\"], [1.0, \"#f0f921\"]], \"type\": \"histogram2d\"}], \"histogram2dcontour\": [{\"colorbar\": {\"outlinewidth\": 0, \"ticks\": \"\"}, \"colorscale\": [[0.0, \"#0d0887\"], [0.1111111111111111, \"#46039f\"], [0.2222222222222222, \"#7201a8\"], [0.3333333333333333, \"#9c179e\"], [0.4444444444444444, \"#bd3786\"], [0.5555555555555556, \"#d8576b\"], [0.6666666666666666, \"#ed7953\"], [0.7777777777777778, \"#fb9f3a\"], [0.8888888888888888, \"#fdca26\"], [1.0, \"#f0f921\"]], \"type\": \"histogram2dcontour\"}], \"mesh3d\": [{\"colorbar\": {\"outlinewidth\": 0, \"ticks\": \"\"}, \"type\": \"mesh3d\"}], \"parcoords\": [{\"line\": {\"colorbar\": {\"outlinewidth\": 0, \"ticks\": \"\"}}, \"type\": \"parcoords\"}], \"pie\": [{\"automargin\": true, \"type\": \"pie\"}], \"scatter\": [{\"marker\": {\"colorbar\": {\"outlinewidth\": 0, \"ticks\": \"\"}}, \"type\": \"scatter\"}], \"scatter3d\": [{\"line\": {\"colorbar\": {\"outlinewidth\": 0, \"ticks\": \"\"}}, \"marker\": {\"colorbar\": {\"outlinewidth\": 0, \"ticks\": \"\"}}, \"type\": \"scatter3d\"}], \"scattercarpet\": [{\"marker\": {\"colorbar\": {\"outlinewidth\": 0, \"ticks\": \"\"}}, \"type\": \"scattercarpet\"}], \"scattergeo\": [{\"marker\": {\"colorbar\": {\"outlinewidth\": 0, \"ticks\": \"\"}}, \"type\": \"scattergeo\"}], \"scattergl\": [{\"marker\": {\"colorbar\": {\"outlinewidth\": 0, \"ticks\": \"\"}}, \"type\": \"scattergl\"}], \"scattermapbox\": [{\"marker\": {\"colorbar\": {\"outlinewidth\": 0, \"ticks\": \"\"}}, \"type\": \"scattermapbox\"}], \"scatterpolar\": [{\"marker\": {\"colorbar\": {\"outlinewidth\": 0, \"ticks\": \"\"}}, \"type\": \"scatterpolar\"}], \"scatterpolargl\": [{\"marker\": {\"colorbar\": {\"outlinewidth\": 0, \"ticks\": \"\"}}, \"type\": \"scatterpolargl\"}], \"scatterternary\": [{\"marker\": {\"colorbar\": {\"outlinewidth\": 0, \"ticks\": \"\"}}, \"type\": \"scatterternary\"}], \"surface\": [{\"colorbar\": {\"outlinewidth\": 0, \"ticks\": \"\"}, \"colorscale\": [[0.0, \"#0d0887\"], [0.1111111111111111, \"#46039f\"], [0.2222222222222222, \"#7201a8\"], [0.3333333333333333, \"#9c179e\"], [0.4444444444444444, \"#bd3786\"], [0.5555555555555556, \"#d8576b\"], [0.6666666666666666, \"#ed7953\"], [0.7777777777777778, \"#fb9f3a\"], [0.8888888888888888, \"#fdca26\"], [1.0, \"#f0f921\"]], \"type\": \"surface\"}], \"table\": [{\"cells\": {\"fill\": {\"color\": \"#EBF0F8\"}, \"line\": {\"color\": \"white\"}}, \"header\": {\"fill\": {\"color\": \"#C8D4E3\"}, \"line\": {\"color\": \"white\"}}, \"type\": \"table\"}]}, \"layout\": {\"annotationdefaults\": {\"arrowcolor\": \"#2a3f5f\", \"arrowhead\": 0, \"arrowwidth\": 1}, \"coloraxis\": {\"colorbar\": {\"outlinewidth\": 0, \"ticks\": \"\"}}, \"colorscale\": {\"diverging\": [[0, \"#8e0152\"], [0.1, \"#c51b7d\"], [0.2, \"#de77ae\"], [0.3, \"#f1b6da\"], [0.4, \"#fde0ef\"], [0.5, \"#f7f7f7\"], [0.6, \"#e6f5d0\"], [0.7, \"#b8e186\"], [0.8, \"#7fbc41\"], [0.9, \"#4d9221\"], [1, \"#276419\"]], \"sequential\": [[0.0, \"#0d0887\"], [0.1111111111111111, \"#46039f\"], [0.2222222222222222, \"#7201a8\"], [0.3333333333333333, \"#9c179e\"], [0.4444444444444444, \"#bd3786\"], [0.5555555555555556, \"#d8576b\"], [0.6666666666666666, \"#ed7953\"], [0.7777777777777778, \"#fb9f3a\"], [0.8888888888888888, \"#fdca26\"], [1.0, \"#f0f921\"]], \"sequentialminus\": [[0.0, \"#0d0887\"], [0.1111111111111111, \"#46039f\"], [0.2222222222222222, \"#7201a8\"], [0.3333333333333333, \"#9c179e\"], [0.4444444444444444, \"#bd3786\"], [0.5555555555555556, \"#d8576b\"], [0.6666666666666666, \"#ed7953\"], [0.7777777777777778, \"#fb9f3a\"], [0.8888888888888888, \"#fdca26\"], [1.0, \"#f0f921\"]]}, \"colorway\": [\"#636efa\", \"#EF553B\", \"#00cc96\", \"#ab63fa\", \"#FFA15A\", \"#19d3f3\", \"#FF6692\", \"#B6E880\", \"#FF97FF\", \"#FECB52\"], \"font\": {\"color\": \"#2a3f5f\"}, \"geo\": {\"bgcolor\": \"white\", \"lakecolor\": \"white\", \"landcolor\": \"#E5ECF6\", \"showlakes\": true, \"showland\": true, \"subunitcolor\": \"white\"}, \"hoverlabel\": {\"align\": \"left\"}, \"hovermode\": \"closest\", \"mapbox\": {\"style\": \"light\"}, \"paper_bgcolor\": \"white\", \"plot_bgcolor\": \"#E5ECF6\", \"polar\": {\"angularaxis\": {\"gridcolor\": \"white\", \"linecolor\": \"white\", \"ticks\": \"\"}, \"bgcolor\": \"#E5ECF6\", \"radialaxis\": {\"gridcolor\": \"white\", \"linecolor\": \"white\", \"ticks\": \"\"}}, \"scene\": {\"xaxis\": {\"backgroundcolor\": \"#E5ECF6\", \"gridcolor\": \"white\", \"gridwidth\": 2, \"linecolor\": \"white\", \"showbackground\": true, \"ticks\": \"\", \"zerolinecolor\": \"white\"}, \"yaxis\": {\"backgroundcolor\": \"#E5ECF6\", \"gridcolor\": \"white\", \"gridwidth\": 2, \"linecolor\": \"white\", \"showbackground\": true, \"ticks\": \"\", \"zerolinecolor\": \"white\"}, \"zaxis\": {\"backgroundcolor\": \"#E5ECF6\", \"gridcolor\": \"white\", \"gridwidth\": 2, \"linecolor\": \"white\", \"showbackground\": true, \"ticks\": \"\", \"zerolinecolor\": \"white\"}}, \"shapedefaults\": {\"line\": {\"color\": \"#2a3f5f\"}}, \"ternary\": {\"aaxis\": {\"gridcolor\": \"white\", \"linecolor\": \"white\", \"ticks\": \"\"}, \"baxis\": {\"gridcolor\": \"white\", \"linecolor\": \"white\", \"ticks\": \"\"}, \"bgcolor\": \"#E5ECF6\", \"caxis\": {\"gridcolor\": \"white\", \"linecolor\": \"white\", \"ticks\": \"\"}}, \"title\": {\"x\": 0.05}, \"xaxis\": {\"automargin\": true, \"gridcolor\": \"white\", \"linecolor\": \"white\", \"ticks\": \"\", \"title\": {\"standoff\": 15}, \"zerolinecolor\": \"white\", \"zerolinewidth\": 2}, \"yaxis\": {\"automargin\": true, \"gridcolor\": \"white\", \"linecolor\": \"white\", \"ticks\": \"\", \"title\": {\"standoff\": 15}, \"zerolinecolor\": \"white\", \"zerolinewidth\": 2}}}, \"title\": {\"text\": \"xc\"}, \"xaxis\": {\"anchor\": \"y\", \"domain\": [0.0, 1.0], \"title\": {\"text\": \"index\"}}, \"yaxis\": {\"anchor\": \"x\", \"domain\": [0.0, 1.0], \"title\": {\"text\": \"condition\"}}},\n",
              "                        {\"responsive\": true}\n",
              "                    ).then(function(){\n",
              "                            \n",
              "var gd = document.getElementById('72b94765-81f0-4fda-8550-9a1b82a938bc');\n",
              "var x = new MutationObserver(function (mutations, observer) {{\n",
              "        var display = window.getComputedStyle(gd).display;\n",
              "        if (!display || display === 'none') {{\n",
              "            console.log([gd, 'removed!']);\n",
              "            Plotly.purge(gd);\n",
              "            observer.disconnect();\n",
              "        }}\n",
              "}});\n",
              "\n",
              "// Listen for the removal of the full notebook cells\n",
              "var notebookContainer = gd.closest('#notebook-container');\n",
              "if (notebookContainer) {{\n",
              "    x.observe(notebookContainer, {childList: true});\n",
              "}}\n",
              "\n",
              "// Listen for the clearing of the current output cell\n",
              "var outputEl = gd.closest('.output');\n",
              "if (outputEl) {{\n",
              "    x.observe(outputEl, {childList: true});\n",
              "}}\n",
              "\n",
              "                        })\n",
              "                };\n",
              "                \n",
              "            </script>\n",
              "        </div>\n",
              "</body>\n",
              "</html>"
            ]
          },
          "metadata": {}
        }
      ]
    },
    {
      "cell_type": "code",
      "metadata": {
        "id": "ENIa240C_4Yl"
      },
      "source": [
        "train_data[\"label\"] = train_data['condition']\n",
        "test_data[\"label\"] = test_data['condition']"
      ],
      "execution_count": 15,
      "outputs": []
    },
    {
      "cell_type": "code",
      "metadata": {
        "id": "X2EOt2GJAJwJ"
      },
      "source": [
        "train_data = train_data.sample(frac=1)\n",
        "X = train_data['review']\n",
        "Y = train_data['label']"
      ],
      "execution_count": 16,
      "outputs": []
    },
    {
      "cell_type": "code",
      "metadata": {
        "colab": {
          "base_uri": "https://localhost:8080/"
        },
        "id": "kTmq21UGAFrb",
        "outputId": "2862cdca-aa2e-4cf1-a725-1409e779339c"
      },
      "source": [
        "count_vectorizer = CountVectorizer(ngram_range=(1,2))\n",
        "X_count_vec = count_vectorizer.fit_transform(X)\n",
        "#Y_count_vec = count_vectorizer.fit_transform(Y)\n",
        "print(X_count_vec)\n",
        "#print(Y_count_vec)"
      ],
      "execution_count": 17,
      "outputs": [
        {
          "output_type": "stream",
          "name": "stdout",
          "text": [
            "  (0, 144429)\t3\n",
            "  (0, 347831)\t1\n",
            "  (0, 212253)\t1\n",
            "  (0, 12750)\t3\n",
            "  (0, 37999)\t1\n",
            "  (0, 23515)\t2\n",
            "  (0, 75804)\t2\n",
            "  (0, 16604)\t9\n",
            "  (0, 130488)\t2\n",
            "  (0, 5821)\t1\n",
            "  (0, 315749)\t1\n",
            "  (0, 179682)\t1\n",
            "  (0, 111772)\t4\n",
            "  (0, 192268)\t5\n",
            "  (0, 74706)\t1\n",
            "  (0, 81319)\t1\n",
            "  (0, 38949)\t1\n",
            "  (0, 63313)\t1\n",
            "  (0, 328692)\t1\n",
            "  (0, 253182)\t1\n",
            "  (0, 126183)\t2\n",
            "  (0, 174815)\t1\n",
            "  (0, 134658)\t1\n",
            "  (0, 223949)\t1\n",
            "  (0, 212674)\t2\n",
            "  :\t:\n",
            "  (19836, 166426)\t1\n",
            "  (19836, 251534)\t1\n",
            "  (19836, 253441)\t1\n",
            "  (19836, 41755)\t1\n",
            "  (19837, 192268)\t1\n",
            "  (19837, 145824)\t1\n",
            "  (19837, 25259)\t1\n",
            "  (19837, 334608)\t1\n",
            "  (19837, 172379)\t1\n",
            "  (19837, 9870)\t1\n",
            "  (19837, 208031)\t1\n",
            "  (19837, 187726)\t1\n",
            "  (19837, 10309)\t1\n",
            "  (19837, 209770)\t1\n",
            "  (19837, 146696)\t1\n",
            "  (19837, 33113)\t1\n",
            "  (19837, 172397)\t1\n",
            "  (19837, 32549)\t1\n",
            "  (19837, 192456)\t1\n",
            "  (19837, 284339)\t1\n",
            "  (19837, 25427)\t1\n",
            "  (19837, 334723)\t1\n",
            "  (19837, 33190)\t1\n",
            "  (19837, 32555)\t1\n",
            "  (19837, 284344)\t1\n"
          ]
        }
      ]
    },
    {
      "cell_type": "code",
      "metadata": {
        "id": "m-wUGgr_AQoP"
      },
      "source": [
        "\n",
        "# training the Random Forest Classifier on complete training data\n",
        "fin_clf = RandomForestClassifier(n_estimators=100)\n",
        "fin_clf.fit(X_count_vec, Y)\n",
        "\n",
        "# transforming test_data with count vectorizer\n",
        "X_test_vec = count_vectorizer.transform(test_data['review'])\n",
        "\n",
        "# getting preds on the test data\n",
        "preds = fin_clf.predict(X_test_vec)"
      ],
      "execution_count": 21,
      "outputs": []
    },
    {
      "cell_type": "code",
      "metadata": {
        "id": "lj1-8FPSDef7",
        "colab": {
          "base_uri": "https://localhost:8080/"
        },
        "outputId": "a26153f7-3db9-4d58-a516-9e0939bbdb06"
      },
      "source": [
        "from sklearn.metrics import accuracy_score\n",
        "print(\"Accuracy on test data: \", accuracy_score(test_data[\"label\"], \n",
        "                                               preds))"
      ],
      "execution_count": 24,
      "outputs": [
        {
          "output_type": "stream",
          "name": "stdout",
          "text": [
            "Accuracy on test data:  0.5243188117776267\n"
          ]
        }
      ]
    },
    {
      "cell_type": "code",
      "metadata": {
        "id": "WzFeJIK0j253"
      },
      "source": [
        "from sklearn import svm\n",
        "clf_svm = svm.SVC()\n",
        "clf_svm.fit(X_count_vec,Y)\n",
        "preds = clf_svm.predict(X_test_vec)\n"
      ],
      "execution_count": null,
      "outputs": []
    },
    {
      "cell_type": "code",
      "metadata": {
        "id": "_4q6KiT2kPl2"
      },
      "source": [
        "from sklearn.metrics import accuracy_score\n",
        "print(\"Accuracy on test data: \", accuracy_score(test_data[\"label\"], \n",
        "                                                preds))"
      ],
      "execution_count": null,
      "outputs": []
    }
  ]
}