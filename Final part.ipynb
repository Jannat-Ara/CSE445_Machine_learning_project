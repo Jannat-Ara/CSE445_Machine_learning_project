{
  "nbformat": 4,
  "nbformat_minor": 0,
  "metadata": {
    "colab": {
      "name": "CSE445_project",
      "provenance": []
    },
    "kernelspec": {
      "display_name": "Python 3",
      "name": "python3"
    },
    "language_info": {
      "name": "python"
    }
  },
  "cells": [
    {
      "cell_type": "code",
      "metadata": {
        "colab": {
          "base_uri": "https://localhost:8080/"
        },
        "id": "ime-C5OVE32O",
        "outputId": "667ba89a-d20e-4731-e12e-47d5e1356bd4"
      },
      "source": [
        "from google.colab import drive\n",
        "drive.mount('/content/drive/')"
      ],
      "execution_count": 1,
      "outputs": [
        {
          "output_type": "stream",
          "name": "stdout",
          "text": [
            "Mounted at /content/drive/\n"
          ]
        }
      ]
    },
    {
      "cell_type": "markdown",
      "metadata": {
        "id": "kCGkA3mSbTu-"
      },
      "source": [
        "# ** Project Tittle: Predicting Patient’s Condition based on review.**"
      ]
    },
    {
      "cell_type": "markdown",
      "metadata": {
        "id": "MlT4l6IbE5gl"
      },
      "source": [
        "Import Libraraies "
      ]
    },
    {
      "cell_type": "code",
      "metadata": {
        "id": "bg5qMu5rE_tX"
      },
      "source": [
        "import numpy as np \n",
        "import pandas as pd \n",
        "import plotly.express as px\n",
        "from sklearn.model_selection import train_test_split,cross_val_score, cross_val_predict\n",
        "from sklearn.feature_extraction.text import CountVectorizer,TfidfVectorizer,TfidfTransformer\n",
        "from sklearn.ensemble import RandomForestClassifier\n",
        "from sklearn.linear_model import LogisticRegression\n",
        "from sklearn import svm"
      ],
      "execution_count": 2,
      "outputs": []
    },
    {
      "cell_type": "code",
      "metadata": {
        "colab": {
          "base_uri": "https://localhost:8080/"
        },
        "id": "2WT36jJBFFQq",
        "outputId": "76b226e6-c912-426b-c32f-f476e1b66911"
      },
      "source": [
        "#train data\n",
        "train_data = pd.read_csv('/content/drive/MyDrive/data/drugsComTest_raw.csv/drugsComTest_raw.csv')\n",
        "#test data\n",
        "test_data = pd.read_csv('/content/drive/MyDrive/data/drugsComTrain_raw.csv/drugsComTrain_raw.csv')\n",
        "\n",
        "#shape of the datas before droping null values\n",
        "print('The shape of train data:',train_data.shape)\n",
        "print('The shape of test data:',test_data.shape)\n",
        "\n",
        "# checking null values\n",
        "print (\"Null values in the dataset : \\n\", train_data.isnull().sum(axis = 0))\n",
        "print (\"Null values in the dataset : \\n\", test_data.isnull().sum(axis = 0))"
      ],
      "execution_count": 3,
      "outputs": [
        {
          "output_type": "stream",
          "name": "stdout",
          "text": [
            "The shape of train data: (53766, 7)\n",
            "The shape of test data: (161297, 7)\n",
            "Null values in the dataset : \n",
            " uniqueID         0\n",
            "drugName         0\n",
            "condition      295\n",
            "review           0\n",
            "rating           0\n",
            "date             0\n",
            "usefulCount      0\n",
            "dtype: int64\n",
            "Null values in the dataset : \n",
            " uniqueID         0\n",
            "drugName         0\n",
            "condition      899\n",
            "review           0\n",
            "rating           0\n",
            "date             0\n",
            "usefulCount      0\n",
            "dtype: int64\n"
          ]
        }
      ]
    },
    {
      "cell_type": "markdown",
      "metadata": {
        "id": "ud_xH5uQbYag"
      },
      "source": [
        "**Data Preprocessing**"
      ]
    },
    {
      "cell_type": "markdown",
      "metadata": {
        "id": "V99QCfaubcWy"
      },
      "source": [
        "#### Dropping Nan values"
      ]
    },
    {
      "cell_type": "code",
      "metadata": {
        "colab": {
          "base_uri": "https://localhost:8080/"
        },
        "id": "GlA7Cyde9f6F",
        "outputId": "e16e8298-0232-4eed-95b6-5e1ccd9832fd"
      },
      "source": [
        "#removing null values\n",
        "train_data = train_data.dropna()\n",
        "test_data = test_data.dropna()\n",
        "\n",
        "#After removing the null values \n",
        "print('Shape of the train data:',train_data.shape)\n",
        "print('Shape of the test data:',test_data.shape)\n",
        "\n",
        "# checking null values\n",
        "print (\"Null values in the dataset : \\n\", train_data.isnull().sum(axis = 0))\n",
        "print (\"Null values in the dataset : \\n\", test_data.isnull().sum(axis = 0))"
      ],
      "execution_count": 4,
      "outputs": [
        {
          "output_type": "stream",
          "name": "stdout",
          "text": [
            "Shape of the train data: (53471, 7)\n",
            "Shape of the test data: (160398, 7)\n",
            "Null values in the dataset : \n",
            " uniqueID       0\n",
            "drugName       0\n",
            "condition      0\n",
            "review         0\n",
            "rating         0\n",
            "date           0\n",
            "usefulCount    0\n",
            "dtype: int64\n",
            "Null values in the dataset : \n",
            " uniqueID       0\n",
            "drugName       0\n",
            "condition      0\n",
            "review         0\n",
            "rating         0\n",
            "date           0\n",
            "usefulCount    0\n",
            "dtype: int64\n"
          ]
        }
      ]
    },
    {
      "cell_type": "markdown",
      "metadata": {
        "id": "uUEwe6Qibhpc"
      },
      "source": [
        "#### Data Cleaning and lowercasing"
      ]
    },
    {
      "cell_type": "code",
      "metadata": {
        "id": "vYTFn9vG9j8H"
      },
      "source": [
        "# Data cleaning using Regex or Regular Expression\n",
        "import re\n",
        "\n",
        "def clean_text(x):\n",
        "    pattern = r'[^a-zA-z0-9\\s]'\n",
        "    text = re.sub(pattern, '', x)\n",
        "    return x\n",
        "\n",
        "def clean_numbers(x):\n",
        "    if bool(re.search(r'\\d', x)):\n",
        "        x = re.sub('[0-9]{5,}', '#####', x)\n",
        "        x = re.sub('[0-9]{4}', '####', x)\n",
        "        x = re.sub('[0-9]{3}', '###', x)\n",
        "        x = re.sub('[0-9]{2}', '##', x)\n",
        "        x = re.sub('#{1}','',x)\n",
        "        x = re.sub('[&;]{2}',\"'\",x)\n",
        "        x = re.sub('\\r\\n','',x)\n",
        "        x = re.sub('</span>','',x)\n",
        "        x = re.sub('\"','',x)\n",
        "    return x"
      ],
      "execution_count": 5,
      "outputs": []
    },
    {
      "cell_type": "code",
      "metadata": {
        "colab": {
          "base_uri": "https://localhost:8080/",
          "height": 35
        },
        "id": "ypHmwX599sUN",
        "outputId": "cc8bd851-79c3-41ec-b272-746b34949f93"
      },
      "source": [
        "contraction_dict = {\"ain't\": \"is not\", \"aren't\": \"are not\",\"can't\": \"cannot\", \"'cause\": \"because\", \"could've\": \"could have\", \"couldn't\": \"could not\", \"didn't\": \"did not\",  \"doesn't\": \"does not\", \"don't\": \"do not\", \"hadn't\": \"had not\", \"hasn't\": \"has not\", \"haven't\": \"have not\", \"he'd\": \"he would\",\"he'll\": \"he will\", \"he's\": \"he is\", \"how'd\": \"how did\", \"how'd'y\": \"how do you\", \"how'll\": \"how will\", \"how's\": \"how is\",  \"I'd\": \"I would\", \"I'd've\": \"I would have\", \"I'll\": \"I will\", \"I'll've\": \"I will have\",\"I'm\": \"I am\", \"I've\": \"I have\", \"i'd\": \"i would\", \"i'd've\": \"i would have\", \"i'll\": \"i will\",  \"i'll've\": \"i will have\",\"i'm\": \"i am\", \"i've\": \"i have\", \"isn't\": \"is not\", \"it'd\": \"it would\", \"it'd've\": \"it would have\", \"it'll\": \"it will\", \"it'll've\": \"it will have\",\"it's\": \"it is\", \"let's\": \"let us\", \"ma'am\": \"madam\", \"mayn't\": \"may not\", \"might've\": \"might have\",\"mightn't\": \"might not\",\"mightn't've\": \"might not have\", \"must've\": \"must have\", \"mustn't\": \"must not\", \"mustn't've\": \"must not have\", \"needn't\": \"need not\", \"needn't've\": \"need not have\",\"o'clock\": \"of the clock\", \"oughtn't\": \"ought not\", \"oughtn't've\": \"ought not have\", \"shan't\": \"shall not\", \"sha'n't\": \"shall not\", \"shan't've\": \"shall not have\", \"she'd\": \"she would\", \"she'd've\": \"she would have\", \"she'll\": \"she will\", \"she'll've\": \"she will have\", \"she's\": \"she is\", \"should've\": \"should have\", \"shouldn't\": \"should not\", \"shouldn't've\": \"should not have\", \"so've\": \"so have\",\"so's\": \"so as\", \"this's\": \"this is\",\"that'd\": \"that would\", \"that'd've\": \"that would have\", \"that's\": \"that is\", \"there'd\": \"there would\", \"there'd've\": \"there would have\", \"there's\": \"there is\", \"here's\": \"here is\",\"they'd\": \"they would\", \"they'd've\": \"they would have\", \"they'll\": \"they will\", \"they'll've\": \"they will have\", \"they're\": \"they are\", \"they've\": \"they have\", \"to've\": \"to have\", \"wasn't\": \"was not\", \"we'd\": \"we would\", \"we'd've\": \"we would have\", \"we'll\": \"we will\", \"we'll've\": \"we will have\", \"we're\": \"we are\", \"we've\": \"we have\", \"weren't\": \"were not\", \"what'll\": \"what will\", \"what'll've\": \"what will have\", \"what're\": \"what are\",  \"what's\": \"what is\", \"what've\": \"what have\", \"when's\": \"when is\", \"when've\": \"when have\", \"where'd\": \"where did\", \"where's\": \"where is\", \"where've\": \"where have\", \"who'll\": \"who will\", \"who'll've\": \"who will have\", \"who's\": \"who is\", \"who've\": \"who have\", \"why's\": \"why is\", \"why've\": \"why have\", \"will've\": \"will have\", \"won't\": \"will not\", \"won't've\": \"will not have\", \"would've\": \"would have\", \"wouldn't\": \"would not\", \"wouldn't've\": \"would not have\", \"y'all\": \"you all\", \"y'all'd\": \"you all would\",\"y'all'd've\": \"you all would have\",\"y'all're\": \"you all are\",\"y'all've\": \"you all have\",\"you'd\": \"you would\", \"you'd've\": \"you would have\", \"you'll\": \"you will\", \"you'll've\": \"you will have\", \"you're\": \"you are\", \"you've\": \"you have\"}\n",
        "def _get_contractions(contraction_dict):\n",
        "    contraction_re = re.compile('(%s)' % '|'.join(contraction_dict.keys()))\n",
        "    return contraction_dict, contraction_re\n",
        "contractions, contractions_re = _get_contractions(contraction_dict)\n",
        "def replace_contractions(text):\n",
        "    def replace(match):\n",
        "        return contractions[match.group(0)]\n",
        "    return contractions_re.sub(replace, text)\n",
        "# Usage\n",
        "replace_contractions(\"this's a text with contraction\")"
      ],
      "execution_count": 6,
      "outputs": [
        {
          "output_type": "execute_result",
          "data": {
            "application/vnd.google.colaboratory.intrinsic+json": {
              "type": "string"
            },
            "text/plain": [
              "'this is a text with contraction'"
            ]
          },
          "metadata": {},
          "execution_count": 6
        }
      ]
    },
    {
      "cell_type": "code",
      "metadata": {
        "id": "SJX4oKkP9wjE"
      },
      "source": [
        "#For Train data\n",
        "# lower the text\n",
        "train_data[\"review\"] = train_data[\"review\"].apply(lambda x: x.lower())\n",
        "train_data[\"condition\"] =train_data['condition'].apply(lambda x:x.lower())\n",
        "\n",
        "# Clean the text\n",
        "train_data[\"review\"] = train_data[\"review\"].apply(lambda x: clean_text(x))\n",
        "train_data[\"condition\"] =train_data['condition'].apply(lambda x: clean_text(x))\n",
        "\n",
        "# Clean numbers\n",
        "train_data[\"review\"] = train_data[\"review\"].apply(lambda x: clean_numbers(x))\n",
        "train_data[\"condition\"] =train_data['condition'].apply(lambda x: clean_numbers(x))\n",
        "\n",
        "# Clean Contractions\n",
        "train_data[\"review\"] = train_data[\"review\"].apply(lambda x: replace_contractions(x))\n",
        "\n",
        "# For Test data\n",
        "# lower the text\n",
        "test_data[\"review\"] = test_data[\"review\"].apply(lambda x: x.lower())\n",
        "test_data[\"condition\"] =test_data['condition'].apply(lambda x: x.lower())\n",
        "\n",
        "# Clean the text\n",
        "test_data[\"review\"] = test_data[\"review\"].apply(lambda x: clean_text(x))\n",
        "test_data[\"condition\"] =test_data['condition'].apply(lambda x: clean_text(x))\n",
        "\n",
        "# Clean numbers\n",
        "test_data[\"review\"] = test_data[\"review\"].apply(lambda x: clean_numbers(x))\n",
        "test_data[\"condition\"] =test_data['condition'].apply(lambda x: clean_numbers(x))\n",
        "\n",
        "# Clean Contractions\n",
        "test_data[\"review\"] = test_data[\"review\"].apply(lambda x: replace_contractions(x))"
      ],
      "execution_count": 7,
      "outputs": []
    },
    {
      "cell_type": "code",
      "metadata": {
        "id": "qh0e_EJz99dI"
      },
      "source": [
        "discard = [\"found\"]\n",
        "\n",
        "#drop rows that contain the partial string \"users found this comment helpful\" in the conference column\n",
        "train_data =train_data[~train_data.condition.str.contains('|'.join(discard))]\n",
        "test_data = test_data[~test_data.condition.str.contains('|'.join(discard))]"
      ],
      "execution_count": 8,
      "outputs": []
    },
    {
      "cell_type": "markdown",
      "metadata": {
        "id": "cGTuryG3bqHh"
      },
      "source": [
        "#### Class Distribution of the datase"
      ]
    },
    {
      "cell_type": "code",
      "metadata": {
        "colab": {
          "base_uri": "https://localhost:8080/",
          "height": 435
        },
        "id": "QQDLO-C1-C5-",
        "outputId": "2d0e9f3a-0c20-4dc8-909d-2915cbc0152a"
      },
      "source": [
        "def plot_bar_chart(df):\n",
        "    counts_series = df.condition.value_counts()\n",
        "    counts_df = pd.DataFrame(counts_series)\n",
        "    counts_df.reset_index(level=0, inplace=True)\n",
        "    \n",
        "    number_of_classes(df)\n",
        "    \n",
        "    fig= px.bar(counts_df, x=\"index\", y=\"condition\",orientation=\"v\",\n",
        "               height=400,\n",
        "               title='xc')\n",
        "    fig.show()\n",
        "    \n",
        "def number_of_classes(df):\n",
        "    print(\"Number of classes: \",len(df[\"condition\"].unique()))\n",
        "\n",
        "plot_bar_chart(train_data)"
      ],
      "execution_count": 9,
      "outputs": [
        {
          "output_type": "stream",
          "name": "stdout",
          "text": [
            "Number of classes:  664\n"
          ]
        },
        {
          "output_type": "display_data",
          "data": {
            "text/html": [
              "<html>\n",
              "<head><meta charset=\"utf-8\" /></head>\n",
              "<body>\n",
              "    <div>\n",
              "            <script src=\"https://cdnjs.cloudflare.com/ajax/libs/mathjax/2.7.5/MathJax.js?config=TeX-AMS-MML_SVG\"></script><script type=\"text/javascript\">if (window.MathJax) {MathJax.Hub.Config({SVG: {font: \"STIX-Web\"}});}</script>\n",
              "                <script type=\"text/javascript\">window.PlotlyConfig = {MathJaxConfig: 'local'};</script>\n",
              "        <script src=\"https://cdn.plot.ly/plotly-latest.min.js\"></script>    \n",
              "            <div id=\"78544f5b-e2ef-4205-ac97-8b47ad9c7ba9\" class=\"plotly-graph-div\" style=\"height:400px; width:100%;\"></div>\n",
              "            <script type=\"text/javascript\">\n",
              "                \n",
              "                    window.PLOTLYENV=window.PLOTLYENV || {};\n",
              "                    \n",
              "                if (document.getElementById(\"78544f5b-e2ef-4205-ac97-8b47ad9c7ba9\")) {\n",
              "                    Plotly.newPlot(\n",
              "                        '78544f5b-e2ef-4205-ac97-8b47ad9c7ba9',\n",
              "                        [{\"alignmentgroup\": \"True\", \"hoverlabel\": {\"namelength\": 0}, \"hovertemplate\": \"index=%{x}<br>condition=%{y}\", \"legendgroup\": \"\", \"marker\": {\"color\": \"#636efa\"}, \"name\": \"\", \"offsetgroup\": \"\", \"orientation\": \"v\", \"showlegend\": false, \"textposition\": \"auto\", \"type\": \"bar\", \"x\": [\"birth control\", \"depression\", \"pain\", \"anxiety\", \"acne\", \"bipolar disorde\", \"weight loss\", \"insomnia\", \"obesity\", \"adhd\", \"emergency contraception\", \"vaginal yeast infection\", \"diabetes, type 2\", \"high blood pressure\", \"smoking cessation\", \"abnormal uterine bleeding\", \"bowel preparation\", \"migraine\", \"ibromyalgia\", \"anxiety and stress\", \"constipation\", \"major depressive disorde\", \"chronic pain\", \"panic disorde\", \"migraine prevention\", \"urinary tract infection\", \"opiate dependence\", \"osteoarthritis\", \"muscle spasm\", \"erectile dysfunction\", \"generalized anxiety disorde\", \"allergic rhinitis\", \"irritable bowel syndrome\", \"rheumatoid arthritis\", \"bacterial infection\", \"cough\", \"sinusitis\", \"nausea/vomiting\", \"gerd\", \"hepatitis c\", \"hyperhidrosis\", \"restless legs syndrome\", \"overactive bladde\", \"multiple sclerosis\", \"high cholesterol\", \"hiv infection\", \"psoriasis\", \"schizophrenia\", \"hypogonadism, male\", \"back pain\", \"endometriosis\", \"constipation, chronic\", \"seizures\", \"rosacea\", \"obsessive compulsive disorde\", \"benign prostatic hyperplasia\", \"asthma, maintenance\", \"bronchitis\", \"not listed / othe\", \"bacterial vaginitis\", \"headache\", \"narcolepsy\", \"onychomycosis, toenail\", \"postmenopausal symptoms\", \"social anxiety disorde\", \"alcohol dependence\", \"bladder infection\", \"herpes simplex\", \"menstrual disorders\", \"schizoaffective disorde\", \"epilepsy\", \"underactive thyroid\", \"post traumatic stress disorde\", \"influenza\", \"cough and nasal congestion\", \"psoriatic arthritis\", \"opiate withdrawal\", \"cold sores\", \"inflammatory conditions\", \"nasal congestion\", \"breast cance\", \"premenstrual dysphoric disorde\", \"chlamydia infection\", \"plaque psoriasis\", \"neuropathic pain\", \"pneumonia\", \"osteoporosis\", \"anesthesia\", \"urticaria\", \"copd, maintenance\", \"polycystic ovary syndrome\", \"asthma\", \"helicobacter pylori infection\", \"constipation, drug induced\", \"ulcerative colitis\", \"atrial fibrillation\", \"crohn's disease, maintenance\", \"motion sickness\", \"mance anxiety\", \"seizure prevention\", \"hashimoto's disease\", \"diarrhea\", \"alcohol withdrawal\", \"hot flashes\", \"upper respiratory tract infection\", \"urinary incontinence\", \"sedation\", \"ankylosing spondylitis\", \"peripheral neuropathy\", \"skin or soft tissue infection\", \"gout, acute\", \"ovarian cysts\", \"otitis media\", \"dry eye disease\", \"diabetic peripheral neuropathy\", \"atopic dermatitis\", \"crohn's disease\", \"atrophic vaginitis\", \"eczema\", \"trigeminal neuralgia\", \"borderline personality disorde\", \"parkinson's disease\", \"strep throat\", \"allergies\", \"period pain\", \"hirsutism\", \"prostate cance\", \"cluster headaches\", \"keratosis\", \"bacterial skin infection\", \"interstitial cystitis\", \"diabetes, type 1\", \"copd\", \"prevention of thromboembolism in atrial fibrillation\", \"herpes simplex, suppression\", \"diverticulitis\", \"ulcerative colitis, active\", \"urinary tract stones\", \"postherpetic neuralgia\", \"arrhythmia\", \"edema\", \"non-small cell lung cance\", \"sciatica\", \"human papilloma virus\", \"nausea/vomiting of pregnancy\", \"systemic lupus erythematosus\", \"obstructive sleep apnea/hypopnea syndrome\", \"hypothyroidism, after thyroid removal\", \"alopecia\", \"premature lab\", \"dermatitis\", \"cold symptoms\", \"supraventricular tachycardia\", \"asthma, acute\", \"moterol)\", \"kidney infections\", \"alzheimer's disease\", \"head lice\", \"neuralgia\", \"autism\", \"rhinitis\", \"anorexia\", \"muscle pain\", \"hemorrhoids\", \"postpartum depression\", \"angina\", \"renal cell carcinoma\", \"allergic reactions\", \"sexual dysfunction, ssri induced\", \"binge eating disorde\", \"chronic fatigue syndrome\", \"pseudotumor cerebri\", \"benign essential trem\", \"dysuria\", \"melasma\", \"heart failure\", \"keratoconjunctivitis sicca\", \"hypertriglyceridemia\", \"amenorrhea\", \"gout\", \"chronic myelogenous leukemia\", \"pulmonary hypertension\", \"breast cancer, metastatic\", \"vitamin/mineral supplementation during pregnancy/lactation\", \"psychosis\", \"hypersomnia\", \"shift work sleep disorde\", \"deep vein thrombosis\", \"prostatitis\", \"diarrhea, chronic\", \"tonsillitis/pharyngitis\", \"light sedation\", \"dental abscess\", \"vertig\", \"dietary supplementation\", \"dry skin\", \"chronic idiopathic constipation\", \"emale infertility\", \"atigue\", \"tourette's syndrome\", \"sinus symptoms\", \"stomach ulce\", \"seasonal allergic conjunctivitis\", \"conjunctivitis, allergic\", \"tendonitis\", \"cervical dystonia\", \"erosive esophagitis\", \"indigestion\", \"mania\", \"pulmonary embolism\", \"trichomoniasis\", \"heart attack\", \"basal cell carcinoma\", \"constipation, acute\", \"skin and structure infection\", \"opioid-induced constipation\", \"sjogren's syndrome\", \"conjunctivitis, bacterial\", \"barrett's esophagus\", \"prevention of bladder infection\", \"glaucoma, open angle\", \"high cholesterol, familial heterozygous\", \"pruritus\", \"androgenetic alopecia\", \"periodic limb movement disorde\", \"uterine fibroids\", \"menorrhagia\", \"bulimia\", \"iron deficiency anemia\", \"perimenopausal symptoms\", \"min)\", \"nausea/vomiting, chemotherapy induced\", \"eye redness\", \"malaria prevention\", \"breakthrough pain\", \"hyperprolactinemia\", \"gastroparesis\", \"raynaud's syndrome\", \"postoperative pain\", \"light anesthesia\", \"reflex sympathetic dystrophy syndrome\", \"soft tissue sarcoma\", \"burns, external\", \"myasthenia gravis\", \"dermatological disorders\", \"organ transplant, rejection prophylaxis\", \"primary immunodeficiency syndrome\", \"ulcerative colitis, maintenance\", \"tinea pedis\", \"acute coronary syndrome\", \"chronic lymphocytic leukemia\", \"otitis externa\", \"neutropenia associated with chemotherapy\", \"pneumococcal disease prophylaxis\", \"crohn's disease, acute\", \"prevention of osteoporosis\", \"tinea versicol\", \"acial wrinkles\", \"herpes zoste\", \"vulvodynia\", \"temporomandibular joint disorde\", \"gastroenteritis\", \"postural orthostatic tachycardia syndrome\", \"macular degeneration\", \"extrapyramidal reaction\", \"seborrheic dermatitis\", \"cutaneous candidiasis\", \"lyme disease\", \"anemia\", \"eye redness/itching\", \"paranoid disorde\", \"gouty arthritis\", \"hypoestrogenism\", \"glaucoma\", \"inflammatory bowel disease\", \"mitral valve prolapse\", \"tinea cruris\", \"angina pectoris prophylaxis\", \"intraocular hypertension\", \"ischemic stroke, prophylaxis\", \"actinic keratosis\", \"ovulation induction\", \"hepatic encephalopathy\", \"juvenile rheumatoid arthritis\", \"agitated state\", \"postoperative ocular inflammation\", \"atrial flutte\", \"human papillomavirus prophylaxis\", \"tinnitus\", \"uveitis\", \"insulin resistance syndrome\", \"methicillin-resistant staphylococcus aureus infection\", \"xerostomia\", \"min / sitagliptin)\", \"nocturnal leg cramps\", \"photoaging of the skin\", \"meniere's disease\", \"clostridial infection\", \"anemia associated with chronic renal failure\", \"hepatitis b\", \"pancreatic exocrine dysfunction\", \"hereditary angioedema\", \"bronchospasm prophylaxis\", \"asperger syndrome\", \"premenstrual syndrome\", \"duodenal ulce\", \"moterol / mometasone)\", \"undifferentiated connective tissue disease\", \"diagnosis and investigation\", \"diabetes insipidus\", \"benzodiazepine withdrawal\", \"zen shoulde\", \"surgical prophylaxis\", \"juvenile idiopathic arthritis\", \"malaria\", \"idiopathic thrombocytopenic purpura\", \"vitamin/mineral supplementation and deficiency\", \"conjunctivitis\", \"left ventricular dysfunction\", \"nightmares\", \"gas\", \"cystic fibrosis\", \"pseudobulbar affect\", \"swine flu\", \"giardiasis\", \"onychomycosis, fingernail\", \"herpes simplex, mucocutaneous/immunocompetent host\", \"hiccups\", \"allergic urticaria\", \"agitation\", \"ge (amlodipine / valsartan)\", \"tsh suppression\", \"dermatologic lesion\", \"breast cancer, adjuvant\", \"precocious puberty\", \"myelodysplastic syndrome\", \"autoimmune hepatitis\", \"pinworm infection (enterobius vermicularis)\", \"deep vein thrombosis, prophylaxis\", \"nausea/vomiting, postoperative\", \"night terrors\", \"tinea corporis\", \"diaper rash\", \"vitamin d deficiency\", \"opioid overdose\", \"labor pain\", \"influenza prophylaxis\", \"anal fissure and fistula\", \"hyperlipoproteinemia type iia, elevated ldl\", \"labor induction\", \"cyclic vomiting syndrome\", \"condylomata acuminata\", \"non-hodgkin's lymphoma\", \"chronic pancreatitis\", \"peptic ulce\", \"diabetic kidney disease\", \"copd, acute\", \"gingivitis\", \"lennox-gastaut syndrome\", \"nasal polyps\", \"dyspareunia\", \"vitamin b deficiency\", \"biliary cirrhosis\", \"hyperphosphatemia of renal failure\", \"herbal supplementation\", \"burning mouth syndrome\", \"mucositis\", \"infection prophylaxis\", \"noninfectious colitis\", \"dysautonomia\", \"breast cancer, prevention\", \"lyme disease, neurologic\", \"computed tomography\", \"anal itching\", \"gastrointestinal stromal tum\", \"ventricular tachycardia\", \"dystonia\", \"mountain sickness / altitude sickness\", \"pelvic inflammatory disease\", \"atrophic urethritis\", \"reversal of opioid sedation\", \"min / saxagliptin)\", \"bullous pemphigoid\", \"sarcoidosis\", \"hypotension\", \"diarrhea, acute\", \"primary ovarian failure\", \"oral thrush\", \"skin cance\", \"pediatric growth hormone deficiency\", \"bone infection\", \"spondyloarthritis\", \"skin disinfection, preoperative\", \"llicle stimulation\", \"thyroid cance\", \"gastrointestinal decontamination\", \"anemia, sickle cell\", \"auditory processing disorde\", \"occipital neuralgia\", \"osteolytic bone lesions of multiple myeloma\", \"menopausal disorders\", \"eve\", \"lactation augmentation\", \"pe\", \"mycobacterium avium-intracellulare, treatment\", \"secondary hyperparathyroidism\", \"seasonal affective disorde\", \"eyelash hypotrichosis\", \"aphthous ulce\", \"insomnia, stimulant-associated\", \"local anesthesia\", \"bacterial endocarditis prevention\", \"osteolytic bone metastases of solid tumors\", \"mild cognitive impairment\", \"deep vein thrombosis prophylaxis after hip replacement surgery\", \"hidradenitis suppurativa\", \"tuberculosis, latent\", \"aplastic anemia\", \"lichen planus\", \"hypomagnesemia\", \"endometrial cance\", \"ophthalmic surgery\", \"dietary fiber supplementation\", \"melanoma, metastatic\", \"gastric ulcer maintenance treatment\", \"intermittent claudication\", \"percutaneous coronary intervention\", \"deep neck infection\", \"bursitis\", \"women (oxybutynin)\", \"amebiasis\", \"prevention of cardiovascular disease\", \"adrenocortical insufficiency\", \"von willebrand's disease\", \"dercum's disease\", \"diabetic macular edema\", \"macular edema\", \"primary nocturnal enuresis\", \"endometrial hyperplasia\", \"ear wax impaction\", \"multiple myeloma\", \"skin rash\", \"progesterone insufficiency\", \"mulation) (phenylephrine)\", \"ulcerative proctitis\", \"lic acid deficiency\", \"persistent depressive disorde\", \"rhinorrhea\", \"iritis\", \"lipodystrophy\", \"high cholesterol, familial homozygous\", \"hypocalcemia\", \"impetig\", \"nsaid-induced gastric ulce\", \"peritonitis\", \"gastritis/duodenitis\", \"lymphoma\", \"hyperthyroidism\", \"perioral dermatitis\", \"oophorectomy\", \"thromboembolic stroke prophylaxis\", \"abortion\", \"addison's disease\", \"glioblastoma multiforme\", \"streptococcal infection\", \"dandruff\", \"behcet's disease\", \"deep vein thrombosis, recurrent event\", \"colorectal cance\", \"liver magnetic resonance imaging\", \"alpha-1 proteinase inhibitor deficiency\", \"paget's disease\", \"cerebral spasticity\", \"hyperlipoproteinemia\", \"hepatocellular carcinoma\", \"systemic mastocytosis\", \"lymphocytic colitis\", \"hyperekplexia\", \"expectoration\", \"pulmonary embolism, first event\", \"intraabdominal infection\", \"gonococcal infection, uncomplicated\", \"pharyngitis\", \"dumping syndrome\", \"chronic spasticity\", \"post-cholecystectomy diarrhea\", \"systemic sclerosis\", \"pupillary dilation\", \"acute lymphoblastic leukemia\", \"deep vein thrombosis, first event\", \"platelet aggregation inhibition\", \"scabies\", \"m pain disorde\", \"gastrointestinal hemorrhage\", \"acute otitis externa\", \"performance anxiety\", \"hypercalcemia of malignancy\", \"schnitzler syndrome\", \"bacteremia\", \"hypoparathyroidism\", \"lactose intolerance\", \"bleeding disorde\", \"breast cancer, palliative\", \"ventricular fibrillation\", \"ischemic stroke\", \"salmonella gastroenteritis\", \"warts\", \"renal tubular acidosis\", \"mantle cell lymphoma\", \"chronic myofascial pain\", \"aids related wasting\", \"uterine bleeding\", \"traveler's diarrhea\", \"mycoplasma pneumonia\", \"gallbladder disease\", \"opiate adjunct\", \"periodontitis\", \"costochondritis\", \"trichotillomania\", \"premature ventricular depolarizations\", \"occupational exposure\", \"oligospermia\", \"submental fullness\", \"still's disease\", \"polymyositis/dermatomyositis\", \"varicella-zoste\", \"thrombocythemia\", \"new daily persistent headache\", \"prevention of dental caries\", \"lichen sclerosus\", \"neck pain\", \"cataplexy\", \"cance\", \"antiphospholipid syndrome\", \"corneal refractive surgery\", \"icu agitation\", \"myotonia congenita\", \"reversal of nondepolarizing muscle relaxants\", \"cachexia\", \"radionuclide myocardial perfusion study\", \"acetaminophen overdose\", \"cal segmental glomerulosclerosis\", \"subarachnoid hemorrhage\", \"head injury\", \"transient ischemic attack\", \"cyclothymic disorde\", \"me\", \"cmv prophylaxis\", \"ovarian cance\", \"esophageal variceal hemorrhage prophylaxis\", \"wolff-parkinson-white syndrome\", \"hypoactive sexual desire disorde\", \"cutaneous t-cell lymphoma\", \"schilling test\", \"coronary artery disease\", \"pain/feve\", \"cerebral edema\", \"pertussis\", \"lyme disease, erythema chronicum migrans\", \"herpes simplex dendritic keratitis\", \"acute promyelocytic leukemia\", \"polycythemia vera\", \"dermatomyositis\", \"hemorrhoids (pramoxine / zinc oxide)\", \"pemphigus\", \"autoimmune hemolytic anemia\", \"wegener's granulomatosis\", \"joint infection\", \"ventricular arrhythmia\", \"mononucleosis\", \"ibrocystic breast disease\", \"dermatophytosis\", \"nephrotic syndrome\", \"actor ix deficiency\", \"uveitis, posteri\", \"aspergillosis, aspergilloma\", \"hyperphosphatemia\", \"nonoccupational exposure\", \"pityriasis rubra pilaris\", \"acute nonlymphocytic leukemia\", \"pudendal neuralgia\", \"nasal carriage of staphylococcus aureus\", \"hypertensive emergency\", \"hyperkalemia\", \"spondylolisthesis\", \"ichthyosis\", \"tympanostomy tube placement surgery\", \"myeloproliferative disorders\", \"ehrlichiosis\", \"hypodermoclysis\", \"body dysmorphic disorde\", \"parkinsonism\", \"pulmonary edema\", \"topical disinfection\", \"oral and dental conditions\", \"pre-exposure prophylaxis\", \"histoplasmosis\", \"rat-bite feve\", \"yellow fever prophylaxis\", \"epididymitis, sexually transmitted\", \"thyrotoxicosis\", \"somat\", \"upper limb spasticity\", \"tic (mycophenolic acid)\", \"leukemia\", \"strongyloidiasis\", \"anaplastic astrocytoma\", \"myelofibrosis\", \"cyclitis\", \"stomach cance\", \"gender dysphoria\", \"head and neck cance\", \"eosinophilic esophagitis\", \"zollinger-ellison syndrome\", \"melanoma\", \"blepharitis\", \"hemophilia a\", \"nausea (phosphorated carbohydrate solution)\", \"syringomyelia\", \"pemphigoid\", \"strabismus\", \"gonadotropin inhibition\", \"oppositional defiant disorde\", \"urinary retention\", \"mist (\", \"primary hyperaldosteronism\", \"anemia, chemotherapy induced\", \"prevention of hypokalemia\", \"sunburn\", \"neutropenia\", \"peripheral arterial disease\", \"sore throat\", \"hypokalemic periodic paralysis\", \"enterocolitis\", \"small bowel or pancreatic fistula\", \"dupuytren's contracture\", \"jet lag\", \"organ transplant, rejection reversal\", \"meningococcal meningitis prophylaxis\", \"squamous cell carcinoma\", \"postoperative increased intraocular pressure\", \"amilial cold autoinflammatory syndrome\", \"mixed connective tissue disease\", \"coccidioidomycosis\", \"adult human growth hormone deficiency\", \"status epilepticus\", \"herpes simplex, mucocutaneous/immunocompromised host\", \"stress ulcer prophylaxis\", \"anthrax\", \"pancreatic cance\", \"chronic inflammatory demyelinating polyradiculoneuropathy\", \"dementia\", \"steroid responsive inflammatory conditions\", \"acial lipoatrophy\", \"premature ejaculation\", \"pertussis prophylaxis\", \"b nutritional deficiency\", \"keratitis\", \"herpes zoster, prophylaxis\", \"glioblastoma multi\", \"giant cell tumor of bone\", \"dissociative identity disorde\", \"hemophilia b\", \"immunosuppression\"], \"xaxis\": \"x\", \"y\": [9648, 3095, 2100, 1908, 1847, 1380, 1248, 1231, 1189, 1126, 827, 811, 808, 783, 660, 648, 639, 583, 579, 573, 525, 524, 485, 469, 454, 431, 398, 387, 387, 381, 378, 350, 325, 320, 307, 297, 289, 266, 246, 245, 240, 240, 234, 215, 206, 202, 198, 195, 195, 192, 192, 179, 176, 175, 173, 165, 158, 157, 153, 153, 153, 152, 137, 136, 133, 130, 130, 129, 127, 127, 120, 118, 118, 117, 113, 112, 107, 105, 103, 100, 99, 98, 98, 98, 96, 88, 86, 86, 80, 78, 78, 77, 77, 77, 75, 75, 74, 72, 72, 71, 71, 69, 68, 67, 64, 64, 63, 61, 60, 56, 56, 55, 55, 54, 54, 54, 53, 53, 52, 51, 50, 50, 49, 49, 48, 48, 47, 46, 45, 45, 45, 45, 45, 44, 44, 43, 43, 43, 43, 42, 41, 40, 40, 39, 38, 37, 37, 37, 36, 36, 35, 35, 35, 34, 34, 32, 32, 32, 31, 31, 31, 31, 31, 30, 30, 30, 30, 30, 29, 29, 28, 28, 28, 28, 28, 27, 26, 26, 26, 26, 26, 26, 26, 25, 25, 25, 24, 24, 24, 24, 23, 23, 23, 23, 22, 22, 22, 22, 21, 21, 21, 21, 21, 21, 21, 21, 20, 20, 20, 20, 19, 19, 19, 19, 19, 18, 18, 18, 18, 18, 18, 18, 17, 17, 17, 17, 16, 16, 15, 15, 15, 15, 15, 14, 14, 14, 14, 13, 13, 13, 13, 13, 13, 13, 13, 12, 12, 12, 12, 11, 11, 11, 11, 11, 11, 11, 11, 11, 10, 10, 10, 10, 10, 10, 10, 10, 10, 10, 10, 10, 10, 9, 9, 9, 9, 9, 9, 9, 9, 8, 8, 8, 8, 8, 8, 8, 8, 8, 8, 8, 8, 8, 8, 8, 8, 8, 8, 8, 8, 7, 7, 7, 7, 7, 7, 7, 7, 7, 7, 7, 7, 7, 7, 7, 7, 7, 7, 7, 7, 7, 7, 7, 7, 7, 7, 7, 6, 6, 6, 6, 6, 6, 6, 6, 6, 6, 6, 6, 6, 6, 6, 6, 6, 6, 5, 5, 5, 5, 5, 5, 5, 5, 5, 5, 5, 5, 5, 5, 5, 5, 5, 5, 5, 5, 5, 5, 5, 5, 5, 5, 5, 4, 4, 4, 4, 4, 4, 4, 4, 4, 4, 4, 4, 4, 4, 4, 4, 4, 4, 4, 4, 4, 4, 4, 4, 4, 4, 4, 4, 4, 4, 4, 4, 4, 4, 3, 3, 3, 3, 3, 3, 3, 3, 3, 3, 3, 3, 3, 3, 3, 3, 3, 3, 3, 3, 3, 3, 3, 3, 3, 3, 3, 3, 3, 3, 3, 3, 3, 3, 3, 3, 3, 3, 3, 3, 3, 3, 3, 3, 3, 3, 3, 3, 3, 3, 3, 3, 3, 3, 3, 2, 2, 2, 2, 2, 2, 2, 2, 2, 2, 2, 2, 2, 2, 2, 2, 2, 2, 2, 2, 2, 2, 2, 2, 2, 2, 2, 2, 2, 2, 2, 2, 2, 2, 2, 2, 2, 2, 2, 2, 2, 2, 2, 2, 2, 2, 2, 2, 2, 2, 2, 2, 2, 2, 2, 2, 2, 2, 2, 2, 2, 2, 2, 2, 2, 2, 2, 2, 2, 2, 2, 2, 2, 2, 2, 2, 1, 1, 1, 1, 1, 1, 1, 1, 1, 1, 1, 1, 1, 1, 1, 1, 1, 1, 1, 1, 1, 1, 1, 1, 1, 1, 1, 1, 1, 1, 1, 1, 1, 1, 1, 1, 1, 1, 1, 1, 1, 1, 1, 1, 1, 1, 1, 1, 1, 1, 1, 1, 1, 1, 1, 1, 1, 1, 1, 1, 1, 1, 1, 1, 1, 1, 1, 1, 1, 1, 1, 1, 1, 1, 1, 1, 1, 1, 1, 1, 1, 1, 1, 1, 1, 1, 1, 1, 1, 1, 1, 1, 1, 1, 1, 1, 1, 1, 1, 1, 1, 1, 1, 1, 1, 1, 1, 1, 1, 1, 1, 1, 1, 1, 1, 1, 1, 1, 1, 1, 1, 1, 1, 1, 1, 1, 1, 1], \"yaxis\": \"y\"}],\n",
              "                        {\"barmode\": \"relative\", \"height\": 400, \"legend\": {\"tracegroupgap\": 0}, \"template\": {\"data\": {\"bar\": [{\"error_x\": {\"color\": \"#2a3f5f\"}, \"error_y\": {\"color\": \"#2a3f5f\"}, \"marker\": {\"line\": {\"color\": \"#E5ECF6\", \"width\": 0.5}}, \"type\": \"bar\"}], \"barpolar\": [{\"marker\": {\"line\": {\"color\": \"#E5ECF6\", \"width\": 0.5}}, \"type\": \"barpolar\"}], \"carpet\": [{\"aaxis\": {\"endlinecolor\": \"#2a3f5f\", \"gridcolor\": \"white\", \"linecolor\": \"white\", \"minorgridcolor\": \"white\", \"startlinecolor\": \"#2a3f5f\"}, \"baxis\": {\"endlinecolor\": \"#2a3f5f\", \"gridcolor\": \"white\", \"linecolor\": \"white\", \"minorgridcolor\": \"white\", \"startlinecolor\": \"#2a3f5f\"}, \"type\": \"carpet\"}], \"choropleth\": [{\"colorbar\": {\"outlinewidth\": 0, \"ticks\": \"\"}, \"type\": \"choropleth\"}], \"contour\": [{\"colorbar\": {\"outlinewidth\": 0, \"ticks\": \"\"}, \"colorscale\": [[0.0, \"#0d0887\"], [0.1111111111111111, \"#46039f\"], [0.2222222222222222, \"#7201a8\"], [0.3333333333333333, \"#9c179e\"], [0.4444444444444444, \"#bd3786\"], [0.5555555555555556, \"#d8576b\"], [0.6666666666666666, \"#ed7953\"], [0.7777777777777778, \"#fb9f3a\"], [0.8888888888888888, \"#fdca26\"], [1.0, \"#f0f921\"]], \"type\": \"contour\"}], \"contourcarpet\": [{\"colorbar\": {\"outlinewidth\": 0, \"ticks\": \"\"}, \"type\": \"contourcarpet\"}], \"heatmap\": [{\"colorbar\": {\"outlinewidth\": 0, \"ticks\": \"\"}, \"colorscale\": [[0.0, \"#0d0887\"], [0.1111111111111111, \"#46039f\"], [0.2222222222222222, \"#7201a8\"], [0.3333333333333333, \"#9c179e\"], [0.4444444444444444, \"#bd3786\"], [0.5555555555555556, \"#d8576b\"], [0.6666666666666666, \"#ed7953\"], [0.7777777777777778, \"#fb9f3a\"], [0.8888888888888888, \"#fdca26\"], [1.0, \"#f0f921\"]], \"type\": \"heatmap\"}], \"heatmapgl\": [{\"colorbar\": {\"outlinewidth\": 0, \"ticks\": \"\"}, \"colorscale\": [[0.0, \"#0d0887\"], [0.1111111111111111, \"#46039f\"], [0.2222222222222222, \"#7201a8\"], [0.3333333333333333, \"#9c179e\"], [0.4444444444444444, \"#bd3786\"], [0.5555555555555556, \"#d8576b\"], [0.6666666666666666, \"#ed7953\"], [0.7777777777777778, \"#fb9f3a\"], [0.8888888888888888, \"#fdca26\"], [1.0, \"#f0f921\"]], \"type\": \"heatmapgl\"}], \"histogram\": [{\"marker\": {\"colorbar\": {\"outlinewidth\": 0, \"ticks\": \"\"}}, \"type\": \"histogram\"}], \"histogram2d\": [{\"colorbar\": {\"outlinewidth\": 0, \"ticks\": \"\"}, \"colorscale\": [[0.0, \"#0d0887\"], [0.1111111111111111, \"#46039f\"], [0.2222222222222222, \"#7201a8\"], [0.3333333333333333, \"#9c179e\"], [0.4444444444444444, \"#bd3786\"], [0.5555555555555556, \"#d8576b\"], [0.6666666666666666, \"#ed7953\"], [0.7777777777777778, \"#fb9f3a\"], [0.8888888888888888, \"#fdca26\"], [1.0, \"#f0f921\"]], \"type\": \"histogram2d\"}], \"histogram2dcontour\": [{\"colorbar\": {\"outlinewidth\": 0, \"ticks\": \"\"}, \"colorscale\": [[0.0, \"#0d0887\"], [0.1111111111111111, \"#46039f\"], [0.2222222222222222, \"#7201a8\"], [0.3333333333333333, \"#9c179e\"], [0.4444444444444444, \"#bd3786\"], [0.5555555555555556, \"#d8576b\"], [0.6666666666666666, \"#ed7953\"], [0.7777777777777778, \"#fb9f3a\"], [0.8888888888888888, \"#fdca26\"], [1.0, \"#f0f921\"]], \"type\": \"histogram2dcontour\"}], \"mesh3d\": [{\"colorbar\": {\"outlinewidth\": 0, \"ticks\": \"\"}, \"type\": \"mesh3d\"}], \"parcoords\": [{\"line\": {\"colorbar\": {\"outlinewidth\": 0, \"ticks\": \"\"}}, \"type\": \"parcoords\"}], \"pie\": [{\"automargin\": true, \"type\": \"pie\"}], \"scatter\": [{\"marker\": {\"colorbar\": {\"outlinewidth\": 0, \"ticks\": \"\"}}, \"type\": \"scatter\"}], \"scatter3d\": [{\"line\": {\"colorbar\": {\"outlinewidth\": 0, \"ticks\": \"\"}}, \"marker\": {\"colorbar\": {\"outlinewidth\": 0, \"ticks\": \"\"}}, \"type\": \"scatter3d\"}], \"scattercarpet\": [{\"marker\": {\"colorbar\": {\"outlinewidth\": 0, \"ticks\": \"\"}}, \"type\": \"scattercarpet\"}], \"scattergeo\": [{\"marker\": {\"colorbar\": {\"outlinewidth\": 0, \"ticks\": \"\"}}, \"type\": \"scattergeo\"}], \"scattergl\": [{\"marker\": {\"colorbar\": {\"outlinewidth\": 0, \"ticks\": \"\"}}, \"type\": \"scattergl\"}], \"scattermapbox\": [{\"marker\": {\"colorbar\": {\"outlinewidth\": 0, \"ticks\": \"\"}}, \"type\": \"scattermapbox\"}], \"scatterpolar\": [{\"marker\": {\"colorbar\": {\"outlinewidth\": 0, \"ticks\": \"\"}}, \"type\": \"scatterpolar\"}], \"scatterpolargl\": [{\"marker\": {\"colorbar\": {\"outlinewidth\": 0, \"ticks\": \"\"}}, \"type\": \"scatterpolargl\"}], \"scatterternary\": [{\"marker\": {\"colorbar\": {\"outlinewidth\": 0, \"ticks\": \"\"}}, \"type\": \"scatterternary\"}], \"surface\": [{\"colorbar\": {\"outlinewidth\": 0, \"ticks\": \"\"}, \"colorscale\": [[0.0, \"#0d0887\"], [0.1111111111111111, \"#46039f\"], [0.2222222222222222, \"#7201a8\"], [0.3333333333333333, \"#9c179e\"], [0.4444444444444444, \"#bd3786\"], [0.5555555555555556, \"#d8576b\"], [0.6666666666666666, \"#ed7953\"], [0.7777777777777778, \"#fb9f3a\"], [0.8888888888888888, \"#fdca26\"], [1.0, \"#f0f921\"]], \"type\": \"surface\"}], \"table\": [{\"cells\": {\"fill\": {\"color\": \"#EBF0F8\"}, \"line\": {\"color\": \"white\"}}, \"header\": {\"fill\": {\"color\": \"#C8D4E3\"}, \"line\": {\"color\": \"white\"}}, \"type\": \"table\"}]}, \"layout\": {\"annotationdefaults\": {\"arrowcolor\": \"#2a3f5f\", \"arrowhead\": 0, \"arrowwidth\": 1}, \"coloraxis\": {\"colorbar\": {\"outlinewidth\": 0, \"ticks\": \"\"}}, \"colorscale\": {\"diverging\": [[0, \"#8e0152\"], [0.1, \"#c51b7d\"], [0.2, \"#de77ae\"], [0.3, \"#f1b6da\"], [0.4, \"#fde0ef\"], [0.5, \"#f7f7f7\"], [0.6, \"#e6f5d0\"], [0.7, \"#b8e186\"], [0.8, \"#7fbc41\"], [0.9, \"#4d9221\"], [1, \"#276419\"]], \"sequential\": [[0.0, \"#0d0887\"], [0.1111111111111111, \"#46039f\"], [0.2222222222222222, \"#7201a8\"], [0.3333333333333333, \"#9c179e\"], [0.4444444444444444, \"#bd3786\"], [0.5555555555555556, \"#d8576b\"], [0.6666666666666666, \"#ed7953\"], [0.7777777777777778, \"#fb9f3a\"], [0.8888888888888888, \"#fdca26\"], [1.0, \"#f0f921\"]], \"sequentialminus\": [[0.0, \"#0d0887\"], [0.1111111111111111, \"#46039f\"], [0.2222222222222222, \"#7201a8\"], [0.3333333333333333, \"#9c179e\"], [0.4444444444444444, \"#bd3786\"], [0.5555555555555556, \"#d8576b\"], [0.6666666666666666, \"#ed7953\"], [0.7777777777777778, \"#fb9f3a\"], [0.8888888888888888, \"#fdca26\"], [1.0, \"#f0f921\"]]}, \"colorway\": [\"#636efa\", \"#EF553B\", \"#00cc96\", \"#ab63fa\", \"#FFA15A\", \"#19d3f3\", \"#FF6692\", \"#B6E880\", \"#FF97FF\", \"#FECB52\"], \"font\": {\"color\": \"#2a3f5f\"}, \"geo\": {\"bgcolor\": \"white\", \"lakecolor\": \"white\", \"landcolor\": \"#E5ECF6\", \"showlakes\": true, \"showland\": true, \"subunitcolor\": \"white\"}, \"hoverlabel\": {\"align\": \"left\"}, \"hovermode\": \"closest\", \"mapbox\": {\"style\": \"light\"}, \"paper_bgcolor\": \"white\", \"plot_bgcolor\": \"#E5ECF6\", \"polar\": {\"angularaxis\": {\"gridcolor\": \"white\", \"linecolor\": \"white\", \"ticks\": \"\"}, \"bgcolor\": \"#E5ECF6\", \"radialaxis\": {\"gridcolor\": \"white\", \"linecolor\": \"white\", \"ticks\": \"\"}}, \"scene\": {\"xaxis\": {\"backgroundcolor\": \"#E5ECF6\", \"gridcolor\": \"white\", \"gridwidth\": 2, \"linecolor\": \"white\", \"showbackground\": true, \"ticks\": \"\", \"zerolinecolor\": \"white\"}, \"yaxis\": {\"backgroundcolor\": \"#E5ECF6\", \"gridcolor\": \"white\", \"gridwidth\": 2, \"linecolor\": \"white\", \"showbackground\": true, \"ticks\": \"\", \"zerolinecolor\": \"white\"}, \"zaxis\": {\"backgroundcolor\": \"#E5ECF6\", \"gridcolor\": \"white\", \"gridwidth\": 2, \"linecolor\": \"white\", \"showbackground\": true, \"ticks\": \"\", \"zerolinecolor\": \"white\"}}, \"shapedefaults\": {\"line\": {\"color\": \"#2a3f5f\"}}, \"ternary\": {\"aaxis\": {\"gridcolor\": \"white\", \"linecolor\": \"white\", \"ticks\": \"\"}, \"baxis\": {\"gridcolor\": \"white\", \"linecolor\": \"white\", \"ticks\": \"\"}, \"bgcolor\": \"#E5ECF6\", \"caxis\": {\"gridcolor\": \"white\", \"linecolor\": \"white\", \"ticks\": \"\"}}, \"title\": {\"x\": 0.05}, \"xaxis\": {\"automargin\": true, \"gridcolor\": \"white\", \"linecolor\": \"white\", \"ticks\": \"\", \"title\": {\"standoff\": 15}, \"zerolinecolor\": \"white\", \"zerolinewidth\": 2}, \"yaxis\": {\"automargin\": true, \"gridcolor\": \"white\", \"linecolor\": \"white\", \"ticks\": \"\", \"title\": {\"standoff\": 15}, \"zerolinecolor\": \"white\", \"zerolinewidth\": 2}}}, \"title\": {\"text\": \"xc\"}, \"xaxis\": {\"anchor\": \"y\", \"domain\": [0.0, 1.0], \"title\": {\"text\": \"index\"}}, \"yaxis\": {\"anchor\": \"x\", \"domain\": [0.0, 1.0], \"title\": {\"text\": \"condition\"}}},\n",
              "                        {\"responsive\": true}\n",
              "                    ).then(function(){\n",
              "                            \n",
              "var gd = document.getElementById('78544f5b-e2ef-4205-ac97-8b47ad9c7ba9');\n",
              "var x = new MutationObserver(function (mutations, observer) {{\n",
              "        var display = window.getComputedStyle(gd).display;\n",
              "        if (!display || display === 'none') {{\n",
              "            console.log([gd, 'removed!']);\n",
              "            Plotly.purge(gd);\n",
              "            observer.disconnect();\n",
              "        }}\n",
              "}});\n",
              "\n",
              "// Listen for the removal of the full notebook cells\n",
              "var notebookContainer = gd.closest('#notebook-container');\n",
              "if (notebookContainer) {{\n",
              "    x.observe(notebookContainer, {childList: true});\n",
              "}}\n",
              "\n",
              "// Listen for the clearing of the current output cell\n",
              "var outputEl = gd.closest('.output');\n",
              "if (outputEl) {{\n",
              "    x.observe(outputEl, {childList: true});\n",
              "}}\n",
              "\n",
              "                        })\n",
              "                };\n",
              "                \n",
              "            </script>\n",
              "        </div>\n",
              "</body>\n",
              "</html>"
            ]
          },
          "metadata": {}
        }
      ]
    },
    {
      "cell_type": "code",
      "metadata": {
        "colab": {
          "base_uri": "https://localhost:8080/"
        },
        "id": "p-eDDKQ7-Ghn",
        "outputId": "2766e93a-911a-4cb6-cee3-a8a30a889577"
      },
      "source": [
        "# We will keep those classes which have more than 20 values in them\n",
        "index_counts = train_data[\"condition\"].value_counts()[train_data.condition.value_counts()>=20].index\n",
        "train_data = train_data[train_data[\"condition\"].isin(index_counts)]\n",
        "\n",
        "number_of_classes(train_data)"
      ],
      "execution_count": 10,
      "outputs": [
        {
          "output_type": "stream",
          "name": "stdout",
          "text": [
            "Number of classes:  210\n"
          ]
        }
      ]
    },
    {
      "cell_type": "markdown",
      "metadata": {
        "id": "UOlJGAQnbxAI"
      },
      "source": [
        "#### Balancing the imbalce through undersampling"
      ]
    },
    {
      "cell_type": "code",
      "metadata": {
        "id": "5LpGN9Bc_NqP"
      },
      "source": [
        "condition_over200 = train_data[\"condition\"].value_counts()[train_data.condition.value_counts() >= 200].index\n",
        "\n",
        "for condition in condition_over200:\n",
        "    # randomly shuffle the samples\n",
        "    condition_samples = train_data[train_data[\"condition\"]==condition]\n",
        "    condition_samples = condition_samples.sample(frac=1).reset_index(drop=True)\n",
        "\n",
        "    # extract only 200\n",
        "    condition_samples = condition_samples[:200]\n",
        "\n",
        "    train_data = train_data[train_data[\"condition\"]!=condition]\n",
        "    # put it back\n",
        "    train_data = pd.concat([train_data, condition_samples], ignore_index=True)"
      ],
      "execution_count": 11,
      "outputs": []
    },
    {
      "cell_type": "markdown",
      "metadata": {
        "id": "p_72LaOtb553"
      },
      "source": [
        "#### Filtering the label"
      ]
    },
    {
      "cell_type": "code",
      "metadata": {
        "id": "bJ6sS43a_oQO"
      },
      "source": [
        "def filter_labels(labels):\n",
        "    labels = labels.tolist()\n",
        "    labels_truth = []\n",
        "    for label in labels:\n",
        "        if label[0].isdigit():\n",
        "            labels_truth.append(False)\n",
        "        else:\n",
        "            labels_truth.append(True)\n",
        "    return labels_truth"
      ],
      "execution_count": 12,
      "outputs": []
    },
    {
      "cell_type": "code",
      "metadata": {
        "colab": {
          "base_uri": "https://localhost:8080/"
        },
        "id": "sLPj7PAD_r1n",
        "outputId": "7502ed1d-af4a-4c92-b5b7-e0766a6e5a4e"
      },
      "source": [
        "#For Train data\n",
        "train_data = train_data[filter_labels(train_data[\"condition\"])]\n",
        "print(\"Train \", number_of_classes(train_data))\n",
        "\n",
        "#For Test data\n",
        "test_data = test_data[filter_labels(test_data[\"condition\"])]\n",
        "print(\"Test \", number_of_classes(test_data))"
      ],
      "execution_count": 13,
      "outputs": [
        {
          "output_type": "stream",
          "name": "stdout",
          "text": [
            "Number of classes:  210\n",
            "Train  None\n",
            "Number of classes:  811\n",
            "Test  None\n"
          ]
        }
      ]
    },
    {
      "cell_type": "code",
      "metadata": {
        "colab": {
          "base_uri": "https://localhost:8080/",
          "height": 452
        },
        "id": "1AIuCNnz_2GU",
        "outputId": "023b9bfd-1a32-4eef-aebd-32bc9a450f41"
      },
      "source": [
        "# keeping those classes which are in the training set, in to the test set\n",
        "test_data = test_data[test_data[\"condition\"].isin(train_data[\"condition\"])]\n",
        "number_of_classes(test_data)\n",
        "plot_bar_chart(train_data)"
      ],
      "execution_count": 14,
      "outputs": [
        {
          "output_type": "stream",
          "name": "stdout",
          "text": [
            "Number of classes:  210\n",
            "Number of classes:  210\n"
          ]
        },
        {
          "output_type": "display_data",
          "data": {
            "text/html": [
              "<html>\n",
              "<head><meta charset=\"utf-8\" /></head>\n",
              "<body>\n",
              "    <div>\n",
              "            <script src=\"https://cdnjs.cloudflare.com/ajax/libs/mathjax/2.7.5/MathJax.js?config=TeX-AMS-MML_SVG\"></script><script type=\"text/javascript\">if (window.MathJax) {MathJax.Hub.Config({SVG: {font: \"STIX-Web\"}});}</script>\n",
              "                <script type=\"text/javascript\">window.PlotlyConfig = {MathJaxConfig: 'local'};</script>\n",
              "        <script src=\"https://cdn.plot.ly/plotly-latest.min.js\"></script>    \n",
              "            <div id=\"ca89b500-f4c9-4e23-8edc-84044bfffed3\" class=\"plotly-graph-div\" style=\"height:400px; width:100%;\"></div>\n",
              "            <script type=\"text/javascript\">\n",
              "                \n",
              "                    window.PLOTLYENV=window.PLOTLYENV || {};\n",
              "                    \n",
              "                if (document.getElementById(\"ca89b500-f4c9-4e23-8edc-84044bfffed3\")) {\n",
              "                    Plotly.newPlot(\n",
              "                        'ca89b500-f4c9-4e23-8edc-84044bfffed3',\n",
              "                        [{\"alignmentgroup\": \"True\", \"hoverlabel\": {\"namelength\": 0}, \"hovertemplate\": \"index=%{x}<br>condition=%{y}\", \"legendgroup\": \"\", \"marker\": {\"color\": \"#636efa\"}, \"name\": \"\", \"offsetgroup\": \"\", \"orientation\": \"v\", \"showlegend\": false, \"textposition\": \"auto\", \"type\": \"bar\", \"x\": [\"urinary tract infection\", \"rheumatoid arthritis\", \"anxiety\", \"smoking cessation\", \"migraine\", \"weight loss\", \"gerd\", \"emergency contraception\", \"nausea/vomiting\", \"bipolar disorde\", \"chronic pain\", \"bowel preparation\", \"irritable bowel syndrome\", \"ibromyalgia\", \"migraine prevention\", \"panic disorde\", \"bacterial infection\", \"abnormal uterine bleeding\", \"hyperhidrosis\", \"hepatitis c\", \"adhd\", \"high cholesterol\", \"high blood pressure\", \"muscle spasm\", \"hiv infection\", \"erectile dysfunction\", \"acne\", \"vaginal yeast infection\", \"diabetes, type 2\", \"restless legs syndrome\", \"constipation\", \"depression\", \"multiple sclerosis\", \"obesity\", \"major depressive disorde\", \"anxiety and stress\", \"osteoarthritis\", \"allergic rhinitis\", \"generalized anxiety disorde\", \"opiate dependence\", \"cough\", \"birth control\", \"pain\", \"sinusitis\", \"insomnia\", \"overactive bladde\", \"psoriasis\", \"hypogonadism, male\", \"schizophrenia\", \"endometriosis\", \"back pain\", \"constipation, chronic\", \"seizures\", \"rosacea\", \"obsessive compulsive disorde\", \"benign prostatic hyperplasia\", \"asthma, maintenance\", \"bronchitis\", \"headache\", \"bacterial vaginitis\", \"not listed / othe\", \"narcolepsy\", \"onychomycosis, toenail\", \"postmenopausal symptoms\", \"social anxiety disorde\", \"alcohol dependence\", \"bladder infection\", \"herpes simplex\", \"menstrual disorders\", \"schizoaffective disorde\", \"epilepsy\", \"post traumatic stress disorde\", \"underactive thyroid\", \"influenza\", \"cough and nasal congestion\", \"psoriatic arthritis\", \"opiate withdrawal\", \"cold sores\", \"inflammatory conditions\", \"nasal congestion\", \"breast cance\", \"plaque psoriasis\", \"chlamydia infection\", \"premenstrual dysphoric disorde\", \"neuropathic pain\", \"pneumonia\", \"osteoporosis\", \"anesthesia\", \"urticaria\", \"copd, maintenance\", \"polycystic ovary syndrome\", \"asthma\", \"helicobacter pylori infection\", \"constipation, drug induced\", \"ulcerative colitis\", \"atrial fibrillation\", \"crohn's disease, maintenance\", \"mance anxiety\", \"motion sickness\", \"hashimoto's disease\", \"seizure prevention\", \"diarrhea\", \"alcohol withdrawal\", \"hot flashes\", \"urinary incontinence\", \"upper respiratory tract infection\", \"sedation\", \"ankylosing spondylitis\", \"peripheral neuropathy\", \"gout, acute\", \"skin or soft tissue infection\", \"otitis media\", \"ovarian cysts\", \"atopic dermatitis\", \"diabetic peripheral neuropathy\", \"dry eye disease\", \"crohn's disease\", \"atrophic vaginitis\", \"eczema\", \"trigeminal neuralgia\", \"parkinson's disease\", \"borderline personality disorde\", \"allergies\", \"strep throat\", \"hirsutism\", \"period pain\", \"prostate cance\", \"cluster headaches\", \"diabetes, type 1\", \"bacterial skin infection\", \"keratosis\", \"interstitial cystitis\", \"copd\", \"herpes simplex, suppression\", \"prevention of thromboembolism in atrial fibrillation\", \"postherpetic neuralgia\", \"diverticulitis\", \"urinary tract stones\", \"ulcerative colitis, active\", \"arrhythmia\", \"edema\", \"sciatica\", \"non-small cell lung cance\", \"human papilloma virus\", \"nausea/vomiting of pregnancy\", \"systemic lupus erythematosus\", \"hypothyroidism, after thyroid removal\", \"obstructive sleep apnea/hypopnea syndrome\", \"premature lab\", \"alopecia\", \"dermatitis\", \"cold symptoms\", \"supraventricular tachycardia\", \"moterol)\", \"asthma, acute\", \"head lice\", \"kidney infections\", \"alzheimer's disease\", \"rhinitis\", \"neuralgia\", \"muscle pain\", \"autism\", \"anorexia\", \"allergic reactions\", \"angina\", \"hemorrhoids\", \"renal cell carcinoma\", \"postpartum depression\", \"binge eating disorde\", \"sexual dysfunction, ssri induced\", \"chronic fatigue syndrome\", \"benign essential trem\", \"pseudotumor cerebri\", \"dysuria\", \"melasma\", \"heart failure\", \"keratoconjunctivitis sicca\", \"pulmonary hypertension\", \"gout\", \"amenorrhea\", \"hypertriglyceridemia\", \"breast cancer, metastatic\", \"chronic myelogenous leukemia\", \"hypersomnia\", \"vitamin/mineral supplementation during pregnancy/lactation\", \"psychosis\", \"shift work sleep disorde\", \"deep vein thrombosis\", \"prostatitis\", \"diarrhea, chronic\", \"tonsillitis/pharyngitis\", \"light sedation\", \"dental abscess\", \"vertig\", \"chronic idiopathic constipation\", \"dry skin\", \"dietary supplementation\", \"emale infertility\", \"tourette's syndrome\", \"stomach ulce\", \"cervical dystonia\", \"atigue\", \"sinus symptoms\", \"conjunctivitis, allergic\", \"seasonal allergic conjunctivitis\", \"tendonitis\", \"pulmonary embolism\", \"erosive esophagitis\", \"indigestion\", \"mania\"], \"xaxis\": \"x\", \"y\": [200, 200, 200, 200, 200, 200, 200, 200, 200, 200, 200, 200, 200, 200, 200, 200, 200, 200, 200, 200, 200, 200, 200, 200, 200, 200, 200, 200, 200, 200, 200, 200, 200, 200, 200, 200, 200, 200, 200, 200, 200, 200, 200, 200, 200, 200, 198, 195, 195, 192, 192, 179, 176, 175, 173, 165, 158, 157, 153, 153, 153, 152, 137, 136, 133, 130, 130, 129, 127, 127, 120, 118, 118, 117, 113, 112, 107, 105, 103, 100, 99, 98, 98, 98, 96, 88, 86, 86, 80, 78, 78, 77, 77, 77, 75, 75, 74, 72, 72, 71, 71, 69, 68, 67, 64, 64, 63, 61, 60, 56, 56, 55, 55, 54, 54, 54, 53, 53, 52, 51, 50, 50, 49, 49, 48, 48, 47, 46, 45, 45, 45, 45, 45, 44, 44, 43, 43, 43, 43, 42, 41, 40, 40, 39, 38, 37, 37, 37, 36, 36, 35, 35, 35, 34, 34, 32, 32, 32, 31, 31, 31, 31, 31, 30, 30, 30, 30, 30, 29, 29, 28, 28, 28, 28, 28, 27, 26, 26, 26, 26, 26, 26, 26, 25, 25, 25, 24, 24, 24, 24, 23, 23, 23, 23, 22, 22, 22, 22, 21, 21, 21, 21, 21, 21, 21, 21, 20, 20, 20, 20], \"yaxis\": \"y\"}],\n",
              "                        {\"barmode\": \"relative\", \"height\": 400, \"legend\": {\"tracegroupgap\": 0}, \"template\": {\"data\": {\"bar\": [{\"error_x\": {\"color\": \"#2a3f5f\"}, \"error_y\": {\"color\": \"#2a3f5f\"}, \"marker\": {\"line\": {\"color\": \"#E5ECF6\", \"width\": 0.5}}, \"type\": \"bar\"}], \"barpolar\": [{\"marker\": {\"line\": {\"color\": \"#E5ECF6\", \"width\": 0.5}}, \"type\": \"barpolar\"}], \"carpet\": [{\"aaxis\": {\"endlinecolor\": \"#2a3f5f\", \"gridcolor\": \"white\", \"linecolor\": \"white\", \"minorgridcolor\": \"white\", \"startlinecolor\": \"#2a3f5f\"}, \"baxis\": {\"endlinecolor\": \"#2a3f5f\", \"gridcolor\": \"white\", \"linecolor\": \"white\", \"minorgridcolor\": \"white\", \"startlinecolor\": \"#2a3f5f\"}, \"type\": \"carpet\"}], \"choropleth\": [{\"colorbar\": {\"outlinewidth\": 0, \"ticks\": \"\"}, \"type\": \"choropleth\"}], \"contour\": [{\"colorbar\": {\"outlinewidth\": 0, \"ticks\": \"\"}, \"colorscale\": [[0.0, \"#0d0887\"], [0.1111111111111111, \"#46039f\"], [0.2222222222222222, \"#7201a8\"], [0.3333333333333333, \"#9c179e\"], [0.4444444444444444, \"#bd3786\"], [0.5555555555555556, \"#d8576b\"], [0.6666666666666666, \"#ed7953\"], [0.7777777777777778, \"#fb9f3a\"], [0.8888888888888888, \"#fdca26\"], [1.0, \"#f0f921\"]], \"type\": \"contour\"}], \"contourcarpet\": [{\"colorbar\": {\"outlinewidth\": 0, \"ticks\": \"\"}, \"type\": \"contourcarpet\"}], \"heatmap\": [{\"colorbar\": {\"outlinewidth\": 0, \"ticks\": \"\"}, \"colorscale\": [[0.0, \"#0d0887\"], [0.1111111111111111, \"#46039f\"], [0.2222222222222222, \"#7201a8\"], [0.3333333333333333, \"#9c179e\"], [0.4444444444444444, \"#bd3786\"], [0.5555555555555556, \"#d8576b\"], [0.6666666666666666, \"#ed7953\"], [0.7777777777777778, \"#fb9f3a\"], [0.8888888888888888, \"#fdca26\"], [1.0, \"#f0f921\"]], \"type\": \"heatmap\"}], \"heatmapgl\": [{\"colorbar\": {\"outlinewidth\": 0, \"ticks\": \"\"}, \"colorscale\": [[0.0, \"#0d0887\"], [0.1111111111111111, \"#46039f\"], [0.2222222222222222, \"#7201a8\"], [0.3333333333333333, \"#9c179e\"], [0.4444444444444444, \"#bd3786\"], [0.5555555555555556, \"#d8576b\"], [0.6666666666666666, \"#ed7953\"], [0.7777777777777778, \"#fb9f3a\"], [0.8888888888888888, \"#fdca26\"], [1.0, \"#f0f921\"]], \"type\": \"heatmapgl\"}], \"histogram\": [{\"marker\": {\"colorbar\": {\"outlinewidth\": 0, \"ticks\": \"\"}}, \"type\": \"histogram\"}], \"histogram2d\": [{\"colorbar\": {\"outlinewidth\": 0, \"ticks\": \"\"}, \"colorscale\": [[0.0, \"#0d0887\"], [0.1111111111111111, \"#46039f\"], [0.2222222222222222, \"#7201a8\"], [0.3333333333333333, \"#9c179e\"], [0.4444444444444444, \"#bd3786\"], [0.5555555555555556, \"#d8576b\"], [0.6666666666666666, \"#ed7953\"], [0.7777777777777778, \"#fb9f3a\"], [0.8888888888888888, \"#fdca26\"], [1.0, \"#f0f921\"]], \"type\": \"histogram2d\"}], \"histogram2dcontour\": [{\"colorbar\": {\"outlinewidth\": 0, \"ticks\": \"\"}, \"colorscale\": [[0.0, \"#0d0887\"], [0.1111111111111111, \"#46039f\"], [0.2222222222222222, \"#7201a8\"], [0.3333333333333333, \"#9c179e\"], [0.4444444444444444, \"#bd3786\"], [0.5555555555555556, \"#d8576b\"], [0.6666666666666666, \"#ed7953\"], [0.7777777777777778, \"#fb9f3a\"], [0.8888888888888888, \"#fdca26\"], [1.0, \"#f0f921\"]], \"type\": \"histogram2dcontour\"}], \"mesh3d\": [{\"colorbar\": {\"outlinewidth\": 0, \"ticks\": \"\"}, \"type\": \"mesh3d\"}], \"parcoords\": [{\"line\": {\"colorbar\": {\"outlinewidth\": 0, \"ticks\": \"\"}}, \"type\": \"parcoords\"}], \"pie\": [{\"automargin\": true, \"type\": \"pie\"}], \"scatter\": [{\"marker\": {\"colorbar\": {\"outlinewidth\": 0, \"ticks\": \"\"}}, \"type\": \"scatter\"}], \"scatter3d\": [{\"line\": {\"colorbar\": {\"outlinewidth\": 0, \"ticks\": \"\"}}, \"marker\": {\"colorbar\": {\"outlinewidth\": 0, \"ticks\": \"\"}}, \"type\": \"scatter3d\"}], \"scattercarpet\": [{\"marker\": {\"colorbar\": {\"outlinewidth\": 0, \"ticks\": \"\"}}, \"type\": \"scattercarpet\"}], \"scattergeo\": [{\"marker\": {\"colorbar\": {\"outlinewidth\": 0, \"ticks\": \"\"}}, \"type\": \"scattergeo\"}], \"scattergl\": [{\"marker\": {\"colorbar\": {\"outlinewidth\": 0, \"ticks\": \"\"}}, \"type\": \"scattergl\"}], \"scattermapbox\": [{\"marker\": {\"colorbar\": {\"outlinewidth\": 0, \"ticks\": \"\"}}, \"type\": \"scattermapbox\"}], \"scatterpolar\": [{\"marker\": {\"colorbar\": {\"outlinewidth\": 0, \"ticks\": \"\"}}, \"type\": \"scatterpolar\"}], \"scatterpolargl\": [{\"marker\": {\"colorbar\": {\"outlinewidth\": 0, \"ticks\": \"\"}}, \"type\": \"scatterpolargl\"}], \"scatterternary\": [{\"marker\": {\"colorbar\": {\"outlinewidth\": 0, \"ticks\": \"\"}}, \"type\": \"scatterternary\"}], \"surface\": [{\"colorbar\": {\"outlinewidth\": 0, \"ticks\": \"\"}, \"colorscale\": [[0.0, \"#0d0887\"], [0.1111111111111111, \"#46039f\"], [0.2222222222222222, \"#7201a8\"], [0.3333333333333333, \"#9c179e\"], [0.4444444444444444, \"#bd3786\"], [0.5555555555555556, \"#d8576b\"], [0.6666666666666666, \"#ed7953\"], [0.7777777777777778, \"#fb9f3a\"], [0.8888888888888888, \"#fdca26\"], [1.0, \"#f0f921\"]], \"type\": \"surface\"}], \"table\": [{\"cells\": {\"fill\": {\"color\": \"#EBF0F8\"}, \"line\": {\"color\": \"white\"}}, \"header\": {\"fill\": {\"color\": \"#C8D4E3\"}, \"line\": {\"color\": \"white\"}}, \"type\": \"table\"}]}, \"layout\": {\"annotationdefaults\": {\"arrowcolor\": \"#2a3f5f\", \"arrowhead\": 0, \"arrowwidth\": 1}, \"coloraxis\": {\"colorbar\": {\"outlinewidth\": 0, \"ticks\": \"\"}}, \"colorscale\": {\"diverging\": [[0, \"#8e0152\"], [0.1, \"#c51b7d\"], [0.2, \"#de77ae\"], [0.3, \"#f1b6da\"], [0.4, \"#fde0ef\"], [0.5, \"#f7f7f7\"], [0.6, \"#e6f5d0\"], [0.7, \"#b8e186\"], [0.8, \"#7fbc41\"], [0.9, \"#4d9221\"], [1, \"#276419\"]], \"sequential\": [[0.0, \"#0d0887\"], [0.1111111111111111, \"#46039f\"], [0.2222222222222222, \"#7201a8\"], [0.3333333333333333, \"#9c179e\"], [0.4444444444444444, \"#bd3786\"], [0.5555555555555556, \"#d8576b\"], [0.6666666666666666, \"#ed7953\"], [0.7777777777777778, \"#fb9f3a\"], [0.8888888888888888, \"#fdca26\"], [1.0, \"#f0f921\"]], \"sequentialminus\": [[0.0, \"#0d0887\"], [0.1111111111111111, \"#46039f\"], [0.2222222222222222, \"#7201a8\"], [0.3333333333333333, \"#9c179e\"], [0.4444444444444444, \"#bd3786\"], [0.5555555555555556, \"#d8576b\"], [0.6666666666666666, \"#ed7953\"], [0.7777777777777778, \"#fb9f3a\"], [0.8888888888888888, \"#fdca26\"], [1.0, \"#f0f921\"]]}, \"colorway\": [\"#636efa\", \"#EF553B\", \"#00cc96\", \"#ab63fa\", \"#FFA15A\", \"#19d3f3\", \"#FF6692\", \"#B6E880\", \"#FF97FF\", \"#FECB52\"], \"font\": {\"color\": \"#2a3f5f\"}, \"geo\": {\"bgcolor\": \"white\", \"lakecolor\": \"white\", \"landcolor\": \"#E5ECF6\", \"showlakes\": true, \"showland\": true, \"subunitcolor\": \"white\"}, \"hoverlabel\": {\"align\": \"left\"}, \"hovermode\": \"closest\", \"mapbox\": {\"style\": \"light\"}, \"paper_bgcolor\": \"white\", \"plot_bgcolor\": \"#E5ECF6\", \"polar\": {\"angularaxis\": {\"gridcolor\": \"white\", \"linecolor\": \"white\", \"ticks\": \"\"}, \"bgcolor\": \"#E5ECF6\", \"radialaxis\": {\"gridcolor\": \"white\", \"linecolor\": \"white\", \"ticks\": \"\"}}, \"scene\": {\"xaxis\": {\"backgroundcolor\": \"#E5ECF6\", \"gridcolor\": \"white\", \"gridwidth\": 2, \"linecolor\": \"white\", \"showbackground\": true, \"ticks\": \"\", \"zerolinecolor\": \"white\"}, \"yaxis\": {\"backgroundcolor\": \"#E5ECF6\", \"gridcolor\": \"white\", \"gridwidth\": 2, \"linecolor\": \"white\", \"showbackground\": true, \"ticks\": \"\", \"zerolinecolor\": \"white\"}, \"zaxis\": {\"backgroundcolor\": \"#E5ECF6\", \"gridcolor\": \"white\", \"gridwidth\": 2, \"linecolor\": \"white\", \"showbackground\": true, \"ticks\": \"\", \"zerolinecolor\": \"white\"}}, \"shapedefaults\": {\"line\": {\"color\": \"#2a3f5f\"}}, \"ternary\": {\"aaxis\": {\"gridcolor\": \"white\", \"linecolor\": \"white\", \"ticks\": \"\"}, \"baxis\": {\"gridcolor\": \"white\", \"linecolor\": \"white\", \"ticks\": \"\"}, \"bgcolor\": \"#E5ECF6\", \"caxis\": {\"gridcolor\": \"white\", \"linecolor\": \"white\", \"ticks\": \"\"}}, \"title\": {\"x\": 0.05}, \"xaxis\": {\"automargin\": true, \"gridcolor\": \"white\", \"linecolor\": \"white\", \"ticks\": \"\", \"title\": {\"standoff\": 15}, \"zerolinecolor\": \"white\", \"zerolinewidth\": 2}, \"yaxis\": {\"automargin\": true, \"gridcolor\": \"white\", \"linecolor\": \"white\", \"ticks\": \"\", \"title\": {\"standoff\": 15}, \"zerolinecolor\": \"white\", \"zerolinewidth\": 2}}}, \"title\": {\"text\": \"xc\"}, \"xaxis\": {\"anchor\": \"y\", \"domain\": [0.0, 1.0], \"title\": {\"text\": \"index\"}}, \"yaxis\": {\"anchor\": \"x\", \"domain\": [0.0, 1.0], \"title\": {\"text\": \"condition\"}}},\n",
              "                        {\"responsive\": true}\n",
              "                    ).then(function(){\n",
              "                            \n",
              "var gd = document.getElementById('ca89b500-f4c9-4e23-8edc-84044bfffed3');\n",
              "var x = new MutationObserver(function (mutations, observer) {{\n",
              "        var display = window.getComputedStyle(gd).display;\n",
              "        if (!display || display === 'none') {{\n",
              "            console.log([gd, 'removed!']);\n",
              "            Plotly.purge(gd);\n",
              "            observer.disconnect();\n",
              "        }}\n",
              "}});\n",
              "\n",
              "// Listen for the removal of the full notebook cells\n",
              "var notebookContainer = gd.closest('#notebook-container');\n",
              "if (notebookContainer) {{\n",
              "    x.observe(notebookContainer, {childList: true});\n",
              "}}\n",
              "\n",
              "// Listen for the clearing of the current output cell\n",
              "var outputEl = gd.closest('.output');\n",
              "if (outputEl) {{\n",
              "    x.observe(outputEl, {childList: true});\n",
              "}}\n",
              "\n",
              "                        })\n",
              "                };\n",
              "                \n",
              "            </script>\n",
              "        </div>\n",
              "</body>\n",
              "</html>"
            ]
          },
          "metadata": {}
        }
      ]
    },
    {
      "cell_type": "code",
      "metadata": {
        "id": "ENIa240C_4Yl"
      },
      "source": [
        "train_data[\"label\"] = train_data['condition']\n",
        "test_data[\"label\"] = test_data['condition']"
      ],
      "execution_count": 15,
      "outputs": []
    },
    {
      "cell_type": "code",
      "metadata": {
        "id": "X2EOt2GJAJwJ"
      },
      "source": [
        "train_data = train_data.sample(frac=1)\n",
        "X = train_data['review']\n",
        "Y = train_data['label']"
      ],
      "execution_count": 16,
      "outputs": []
    },
    {
      "cell_type": "markdown",
      "metadata": {
        "id": "1Mfv0cvjb-uC"
      },
      "source": [
        "**Feature Extraction**"
      ]
    },
    {
      "cell_type": "code",
      "metadata": {
        "colab": {
          "base_uri": "https://localhost:8080/"
        },
        "id": "kTmq21UGAFrb",
        "outputId": "6d5dd435-ae5d-4d96-fd10-063e9a9aa1f3"
      },
      "source": [
        "count_vectorizer = CountVectorizer(ngram_range=(1,2))\n",
        "X_count_vec = count_vectorizer.fit_transform(X)\n",
        "#Y_count_vec = count_vectorizer.fit_transform(Y)\n",
        "print(X_count_vec)\n",
        "#print(Y_count_vec)"
      ],
      "execution_count": 17,
      "outputs": [
        {
          "output_type": "stream",
          "name": "stdout",
          "text": [
            "  (0, 13108)\t2\n",
            "  (0, 206093)\t1\n",
            "  (0, 136689)\t4\n",
            "  (0, 70613)\t2\n",
            "  (0, 6890)\t1\n",
            "  (0, 40000)\t1\n",
            "  (0, 213231)\t1\n",
            "  (0, 71916)\t1\n",
            "  (0, 16538)\t4\n",
            "  (0, 271745)\t1\n",
            "  (0, 111918)\t3\n",
            "  (0, 334882)\t1\n",
            "  (0, 159306)\t1\n",
            "  (0, 108583)\t1\n",
            "  (0, 260815)\t1\n",
            "  (0, 216217)\t1\n",
            "  (0, 264963)\t1\n",
            "  (0, 91820)\t1\n",
            "  (0, 330712)\t3\n",
            "  (0, 203520)\t1\n",
            "  (0, 268027)\t1\n",
            "  (0, 335852)\t1\n",
            "  (0, 271835)\t1\n",
            "  (0, 200997)\t1\n",
            "  (0, 49473)\t1\n",
            "  :\t:\n",
            "  (19837, 184832)\t1\n",
            "  (19837, 24077)\t1\n",
            "  (19837, 285822)\t1\n",
            "  (19837, 300431)\t1\n",
            "  (19837, 311876)\t1\n",
            "  (19837, 70643)\t1\n",
            "  (19837, 85575)\t1\n",
            "  (19837, 63799)\t1\n",
            "  (19837, 227085)\t1\n",
            "  (19837, 326280)\t1\n",
            "  (19837, 59002)\t1\n",
            "  (19837, 195455)\t1\n",
            "  (19837, 326281)\t1\n",
            "  (19837, 326238)\t1\n",
            "  (19837, 59003)\t1\n",
            "  (19837, 89282)\t1\n",
            "  (19837, 210544)\t1\n",
            "  (19837, 227089)\t1\n",
            "  (19837, 315523)\t1\n",
            "  (19837, 136232)\t1\n",
            "  (19837, 184835)\t1\n",
            "  (19837, 203850)\t1\n",
            "  (19837, 204896)\t1\n",
            "  (19837, 285825)\t1\n",
            "  (19837, 190504)\t1\n"
          ]
        }
      ]
    },
    {
      "cell_type": "markdown",
      "metadata": {
        "id": "Zjdf_--dcHhC"
      },
      "source": [
        "**Model Training and Testing**"
      ]
    },
    {
      "cell_type": "code",
      "metadata": {
        "id": "m-wUGgr_AQoP"
      },
      "source": [
        "\n",
        "# training the Random Forest Classifier on complete training data\n",
        "fin_clf = RandomForestClassifier(n_estimators=100)\n",
        "fin_clf.fit(X_count_vec, Y)\n",
        "\n",
        "# transforming test_data with count vectorizer\n",
        "X_test_vec = count_vectorizer.transform(test_data['review'])\n",
        "\n",
        "# getting preds on the test data\n",
        "preds = fin_clf.predict(X_test_vec)"
      ],
      "execution_count": 18,
      "outputs": []
    },
    {
      "cell_type": "code",
      "metadata": {
        "colab": {
          "base_uri": "https://localhost:8080/"
        },
        "id": "lj1-8FPSDef7",
        "outputId": "7b91036b-1e92-4460-d97d-265a0cfde8dd"
      },
      "source": [
        "from sklearn.metrics import accuracy_score\n",
        "print(\"Accuracy on test data: \", accuracy_score(test_data[\"label\"], \n",
        "                                               preds))"
      ],
      "execution_count": 19,
      "outputs": [
        {
          "output_type": "stream",
          "name": "stdout",
          "text": [
            "Accuracy on test data:  0.5244757073374824\n"
          ]
        }
      ]
    },
    {
      "cell_type": "code",
      "metadata": {
        "id": "xgfJLT5AlDjU",
        "colab": {
          "base_uri": "https://localhost:8080/"
        },
        "outputId": "8e290713-4fef-4476-b012-c8272684bb5e"
      },
      "source": [
        "print(preds)"
      ],
      "execution_count": 20,
      "outputs": [
        {
          "output_type": "stream",
          "name": "stdout",
          "text": [
            "['adhd' 'abnormal uterine bleeding' 'abnormal uterine bleeding' ...\n",
            " 'rheumatoid arthritis' 'underactive thyroid' 'constipation, chronic']\n"
          ]
        }
      ]
    },
    {
      "cell_type": "code",
      "metadata": {
        "id": "w5ogXN1Xa67j"
      },
      "source": [
        "preds = fin_clf.predict(X_test_vec[0])"
      ],
      "execution_count": 22,
      "outputs": []
    },
    {
      "cell_type": "code",
      "metadata": {
        "colab": {
          "base_uri": "https://localhost:8080/"
        },
        "id": "rtAXkGH-faLz",
        "outputId": "e201b48f-0e77-4e9a-f35d-bcc09cc08fc9"
      },
      "source": [
        "print(preds)"
      ],
      "execution_count": 25,
      "outputs": [
        {
          "output_type": "stream",
          "name": "stdout",
          "text": [
            "['adhd']\n"
          ]
        }
      ]
    },
    {
      "cell_type": "code",
      "metadata": {
        "colab": {
          "base_uri": "https://localhost:8080/"
        },
        "id": "h2ioUnRQbIEC",
        "outputId": "c708f7c7-81e9-4dd4-f111-e9306a5afd74"
      },
      "source": [
        "count_vectorizer.inverse_transform(X_test_vec[0])"
      ],
      "execution_count": 23,
      "outputs": [
        {
          "output_type": "execute_result",
          "data": {
            "text/plain": [
              "[array(['all', 'all the', 'and', 'and she', 'and slept', 'and so',\n",
              "        'and with', 'at', 'at school', 'be', 'be on', 'became',\n",
              "        'became concerned', 'bed', 'bed was', 'been', 'been problem',\n",
              "        'began', 'began this', 'behavior', 'behavior is', 'better',\n",
              "        'called', 'concerned', 'concerned when', 'could', 'could hardly',\n",
              "        'cranky', 'cranky and', 'days', 'days have', 'days he', 'days see',\n",
              "        'did', 'did at', 'different', 'different medications', 'doctor',\n",
              "        'doctor on', 'dose', 'dose he', 'drive', 'drive home', 'effective',\n",
              "        'emotional', 'ever', 'far', 'far this', 'few', 'few days', 'for',\n",
              "        'for him', 'for nearly', 'for two', 'fourth', 'fourth week',\n",
              "        'free', 'from', 'from school', 'get', 'get out', 'getting',\n",
              "        'getting up', 'good', 'good thing', 'halfway', 'halfway through',\n",
              "        'hardly', 'hardly get', 'have', 'have been', 'have tried', 'he',\n",
              "        'he began', 'he could', 'he did', 'he is', 'he should',\n",
              "        'he started', 'he will', 'highest', 'highest dose', 'him', 'his',\n",
              "        'his behavior', 'his doctor', 'home', 'home from', 'hours',\n",
              "        'hours on', 'how', 'how he', 'in', 'in the', 'intuniv', 'is',\n",
              "        'is better', 'is less', 'is much', 'is the', 'it', 'it out',\n",
              "        'last', 'last two', 'last week', 'less', 'less emotional', 'many',\n",
              "        'many different', 'medications', 'medications and', 'monday',\n",
              "        'monday morning', 'more', 'morning', 'morning and', 'morning the',\n",
              "        'most', 'most effective', 'much', 'much more', 'my', 'my son',\n",
              "        'nearly', 'of', 'of bed', 'on', 'on for', 'on monday', 'out',\n",
              "        'out few', 'out of', 'overall', 'problem', 'problem free',\n",
              "        'remembering', 'said', 'said to', 'school', 'school and', 'see',\n",
              "        'see how', 'she', 'she said', 'should', 'slept', 'slept for', 'so',\n",
              "        'so far', 'son', 'son is', 'started', 'started taking', 'stick',\n",
              "        'stick it', 'taking', 'taking the', 'than', 'than ever', 'the',\n",
              "        'the highest', 'the last', 'the morning', 'the most', 'the things',\n",
              "        'thing', 'things', 'this', 'this is', 'this last', 'through', 'to',\n",
              "        'to stick', 'tried', 'tried many', 'two', 'two days', 'unusual',\n",
              "        'unusual for', 'up', 'up in', 'vacation', 'very', 'very cranky',\n",
              "        'very unusual', 'was', 'was very', 'we', 'we became', 'we have',\n",
              "        'week', 'week of', 'week when', 'when', 'when he', 'will',\n",
              "        'will be', 'with', 'with getting'], dtype='<U52')]"
            ]
          },
          "metadata": {},
          "execution_count": 23
        }
      ]
    },
    {
      "cell_type": "code",
      "metadata": {
        "colab": {
          "base_uri": "https://localhost:8080/",
          "height": 105
        },
        "id": "K-1XNgpAbKk7",
        "outputId": "abed2294-da1b-4636-c679-27f5f7cba2d3"
      },
      "source": [
        "test_data['review'].iloc[0]"
      ],
      "execution_count": 24,
      "outputs": [
        {
          "output_type": "execute_result",
          "data": {
            "application/vnd.google.colaboratory.intrinsic+json": {
              "type": "string"
            },
            "text/plain": [
              "'my son is halfway through his fourth week of intuniv. we became concerned when he began this last week, when he started taking the highest dose he will be on. for two days, he could hardly get out of bed, was very cranky, and slept for nearly 8 hours on a drive home from school vacation (very unusual for him.) i called his doctor on monday morning and she said to stick it out a few days. see how he did at school, and with getting up in the morning. the last two days have been problem free. he is much more agreeable than ever. he is less emotional (a good thing), less cranky. he is remembering all the things he should. overall his behavior is better. we have tried many different medications and so far this is the most effective.'"
            ]
          },
          "metadata": {},
          "execution_count": 24
        }
      ]
    },
    {
      "cell_type": "code",
      "metadata": {
        "id": "WzFeJIK0j253"
      },
      "source": [
        "from sklearn import svm\n",
        "clf_svm = svm.SVC()\n",
        "clf_svm.fit(X_count_vec,Y)\n",
        "pred_svm = clf_svm.predict(X_test_vec)\n"
      ],
      "execution_count": null,
      "outputs": []
    },
    {
      "cell_type": "code",
      "metadata": {
        "colab": {
          "base_uri": "https://localhost:8080/"
        },
        "id": "_4q6KiT2kPl2",
        "outputId": "4769a440-70f8-4d4a-aac2-c978919c8770"
      },
      "source": [
        "from sklearn.metrics import accuracy_score\n",
        "print(\"Accuracy on test data: \", accuracy_score(test_data[\"label\"], \n",
        "                                                pred_svm))"
      ],
      "execution_count": 27,
      "outputs": [
        {
          "output_type": "stream",
          "name": "stdout",
          "text": [
            "Accuracy on test data:  0.4183881596150829\n"
          ]
        }
      ]
    },
    {
      "cell_type": "code",
      "metadata": {
        "id": "A9moJyj1zRJU"
      },
      "source": [
        "preds = fin_clf.predict(X_test_vec[0])"
      ],
      "execution_count": 28,
      "outputs": []
    },
    {
      "cell_type": "code",
      "metadata": {
        "id": "qTVsFNkxzY9K"
      },
      "source": [
        "print(preds)"
      ],
      "execution_count": null,
      "outputs": []
    }
  ]
}